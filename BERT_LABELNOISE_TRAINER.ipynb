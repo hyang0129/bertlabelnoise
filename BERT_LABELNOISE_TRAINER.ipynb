{
  "nbformat": 4,
  "nbformat_minor": 0,
  "metadata": {
    "colab": {
      "name": "BERT_LABELNOISE_TRAINER.ipynb",
      "provenance": [],
      "collapsed_sections": [
        "YMXrVZtjkTfC"
      ],
      "toc_visible": true,
      "mount_file_id": "1qcKO2DFl0UtGI6Ev7hXd0V4gb-AbR2wM",
      "authorship_tag": "ABX9TyMin7qL1LIuao0qar91OWDF",
      "include_colab_link": true
    },
    "kernelspec": {
      "name": "python3",
      "display_name": "Python 3"
    },
    "accelerator": "TPU",
    "widgets": {
      "application/vnd.jupyter.widget-state+json": {
        "101e1d85679544e791dbd92945d8e957": {
          "model_module": "@jupyter-widgets/controls",
          "model_name": "HBoxModel",
          "state": {
            "_view_name": "HBoxView",
            "_dom_classes": [],
            "_model_name": "HBoxModel",
            "_view_module": "@jupyter-widgets/controls",
            "_model_module_version": "1.5.0",
            "_view_count": null,
            "_view_module_version": "1.5.0",
            "box_style": "",
            "layout": "IPY_MODEL_40cb522b9a47449c8a9744d7e1fbf8c6",
            "_model_module": "@jupyter-widgets/controls",
            "children": [
              "IPY_MODEL_670e3ef212ed4d4b9145a8fdbdcf001e",
              "IPY_MODEL_9ddbfc373b0d4a2291615d51e961e90a"
            ]
          }
        },
        "40cb522b9a47449c8a9744d7e1fbf8c6": {
          "model_module": "@jupyter-widgets/base",
          "model_name": "LayoutModel",
          "state": {
            "_view_name": "LayoutView",
            "grid_template_rows": null,
            "right": null,
            "justify_content": null,
            "_view_module": "@jupyter-widgets/base",
            "overflow": null,
            "_model_module_version": "1.2.0",
            "_view_count": null,
            "flex_flow": null,
            "width": null,
            "min_width": null,
            "border": null,
            "align_items": null,
            "bottom": null,
            "_model_module": "@jupyter-widgets/base",
            "top": null,
            "grid_column": null,
            "overflow_y": null,
            "overflow_x": null,
            "grid_auto_flow": null,
            "grid_area": null,
            "grid_template_columns": null,
            "flex": null,
            "_model_name": "LayoutModel",
            "justify_items": null,
            "grid_row": null,
            "max_height": null,
            "align_content": null,
            "visibility": null,
            "align_self": null,
            "height": null,
            "min_height": null,
            "padding": null,
            "grid_auto_rows": null,
            "grid_gap": null,
            "max_width": null,
            "order": null,
            "_view_module_version": "1.2.0",
            "grid_template_areas": null,
            "object_position": null,
            "object_fit": null,
            "grid_auto_columns": null,
            "margin": null,
            "display": null,
            "left": null
          }
        },
        "670e3ef212ed4d4b9145a8fdbdcf001e": {
          "model_module": "@jupyter-widgets/controls",
          "model_name": "FloatProgressModel",
          "state": {
            "_view_name": "ProgressView",
            "style": "IPY_MODEL_220ce493b3e3457db344b763612d60e6",
            "_dom_classes": [],
            "description": "Downloading: 100%",
            "_model_name": "FloatProgressModel",
            "bar_style": "success",
            "max": 231508,
            "_view_module": "@jupyter-widgets/controls",
            "_model_module_version": "1.5.0",
            "value": 231508,
            "_view_count": null,
            "_view_module_version": "1.5.0",
            "orientation": "horizontal",
            "min": 0,
            "description_tooltip": null,
            "_model_module": "@jupyter-widgets/controls",
            "layout": "IPY_MODEL_6370f60cda0647dfb2745f3c7456195b"
          }
        },
        "9ddbfc373b0d4a2291615d51e961e90a": {
          "model_module": "@jupyter-widgets/controls",
          "model_name": "HTMLModel",
          "state": {
            "_view_name": "HTMLView",
            "style": "IPY_MODEL_003e5890c8dc483baa537e6463a0f539",
            "_dom_classes": [],
            "description": "",
            "_model_name": "HTMLModel",
            "placeholder": "​",
            "_view_module": "@jupyter-widgets/controls",
            "_model_module_version": "1.5.0",
            "value": " 232k/232k [00:01&lt;00:00, 222kB/s]",
            "_view_count": null,
            "_view_module_version": "1.5.0",
            "description_tooltip": null,
            "_model_module": "@jupyter-widgets/controls",
            "layout": "IPY_MODEL_1c42c6a58c504b14a60bc000a9724f39"
          }
        },
        "220ce493b3e3457db344b763612d60e6": {
          "model_module": "@jupyter-widgets/controls",
          "model_name": "ProgressStyleModel",
          "state": {
            "_view_name": "StyleView",
            "_model_name": "ProgressStyleModel",
            "description_width": "initial",
            "_view_module": "@jupyter-widgets/base",
            "_model_module_version": "1.5.0",
            "_view_count": null,
            "_view_module_version": "1.2.0",
            "bar_color": null,
            "_model_module": "@jupyter-widgets/controls"
          }
        },
        "6370f60cda0647dfb2745f3c7456195b": {
          "model_module": "@jupyter-widgets/base",
          "model_name": "LayoutModel",
          "state": {
            "_view_name": "LayoutView",
            "grid_template_rows": null,
            "right": null,
            "justify_content": null,
            "_view_module": "@jupyter-widgets/base",
            "overflow": null,
            "_model_module_version": "1.2.0",
            "_view_count": null,
            "flex_flow": null,
            "width": null,
            "min_width": null,
            "border": null,
            "align_items": null,
            "bottom": null,
            "_model_module": "@jupyter-widgets/base",
            "top": null,
            "grid_column": null,
            "overflow_y": null,
            "overflow_x": null,
            "grid_auto_flow": null,
            "grid_area": null,
            "grid_template_columns": null,
            "flex": null,
            "_model_name": "LayoutModel",
            "justify_items": null,
            "grid_row": null,
            "max_height": null,
            "align_content": null,
            "visibility": null,
            "align_self": null,
            "height": null,
            "min_height": null,
            "padding": null,
            "grid_auto_rows": null,
            "grid_gap": null,
            "max_width": null,
            "order": null,
            "_view_module_version": "1.2.0",
            "grid_template_areas": null,
            "object_position": null,
            "object_fit": null,
            "grid_auto_columns": null,
            "margin": null,
            "display": null,
            "left": null
          }
        },
        "003e5890c8dc483baa537e6463a0f539": {
          "model_module": "@jupyter-widgets/controls",
          "model_name": "DescriptionStyleModel",
          "state": {
            "_view_name": "StyleView",
            "_model_name": "DescriptionStyleModel",
            "description_width": "",
            "_view_module": "@jupyter-widgets/base",
            "_model_module_version": "1.5.0",
            "_view_count": null,
            "_view_module_version": "1.2.0",
            "_model_module": "@jupyter-widgets/controls"
          }
        },
        "1c42c6a58c504b14a60bc000a9724f39": {
          "model_module": "@jupyter-widgets/base",
          "model_name": "LayoutModel",
          "state": {
            "_view_name": "LayoutView",
            "grid_template_rows": null,
            "right": null,
            "justify_content": null,
            "_view_module": "@jupyter-widgets/base",
            "overflow": null,
            "_model_module_version": "1.2.0",
            "_view_count": null,
            "flex_flow": null,
            "width": null,
            "min_width": null,
            "border": null,
            "align_items": null,
            "bottom": null,
            "_model_module": "@jupyter-widgets/base",
            "top": null,
            "grid_column": null,
            "overflow_y": null,
            "overflow_x": null,
            "grid_auto_flow": null,
            "grid_area": null,
            "grid_template_columns": null,
            "flex": null,
            "_model_name": "LayoutModel",
            "justify_items": null,
            "grid_row": null,
            "max_height": null,
            "align_content": null,
            "visibility": null,
            "align_self": null,
            "height": null,
            "min_height": null,
            "padding": null,
            "grid_auto_rows": null,
            "grid_gap": null,
            "max_width": null,
            "order": null,
            "_view_module_version": "1.2.0",
            "grid_template_areas": null,
            "object_position": null,
            "object_fit": null,
            "grid_auto_columns": null,
            "margin": null,
            "display": null,
            "left": null
          }
        },
        "b66d80ac6bfb44e084fbc7fa4f6fd8f0": {
          "model_module": "@jupyter-widgets/controls",
          "model_name": "HBoxModel",
          "state": {
            "_view_name": "HBoxView",
            "_dom_classes": [],
            "_model_name": "HBoxModel",
            "_view_module": "@jupyter-widgets/controls",
            "_model_module_version": "1.5.0",
            "_view_count": null,
            "_view_module_version": "1.5.0",
            "box_style": "",
            "layout": "IPY_MODEL_3817019756a4489eb2b986e468472a33",
            "_model_module": "@jupyter-widgets/controls",
            "children": [
              "IPY_MODEL_e1add42094cd441a89c0315e74fe5198",
              "IPY_MODEL_2bdaac4000554000978db342c508688b"
            ]
          }
        },
        "3817019756a4489eb2b986e468472a33": {
          "model_module": "@jupyter-widgets/base",
          "model_name": "LayoutModel",
          "state": {
            "_view_name": "LayoutView",
            "grid_template_rows": null,
            "right": null,
            "justify_content": null,
            "_view_module": "@jupyter-widgets/base",
            "overflow": null,
            "_model_module_version": "1.2.0",
            "_view_count": null,
            "flex_flow": null,
            "width": null,
            "min_width": null,
            "border": null,
            "align_items": null,
            "bottom": null,
            "_model_module": "@jupyter-widgets/base",
            "top": null,
            "grid_column": null,
            "overflow_y": null,
            "overflow_x": null,
            "grid_auto_flow": null,
            "grid_area": null,
            "grid_template_columns": null,
            "flex": null,
            "_model_name": "LayoutModel",
            "justify_items": null,
            "grid_row": null,
            "max_height": null,
            "align_content": null,
            "visibility": null,
            "align_self": null,
            "height": null,
            "min_height": null,
            "padding": null,
            "grid_auto_rows": null,
            "grid_gap": null,
            "max_width": null,
            "order": null,
            "_view_module_version": "1.2.0",
            "grid_template_areas": null,
            "object_position": null,
            "object_fit": null,
            "grid_auto_columns": null,
            "margin": null,
            "display": null,
            "left": null
          }
        },
        "e1add42094cd441a89c0315e74fe5198": {
          "model_module": "@jupyter-widgets/controls",
          "model_name": "FloatProgressModel",
          "state": {
            "_view_name": "ProgressView",
            "style": "IPY_MODEL_0134969b38d4456a86a181eb5eed2d9a",
            "_dom_classes": [],
            "description": "Downloading: 100%",
            "_model_name": "FloatProgressModel",
            "bar_style": "success",
            "max": 28,
            "_view_module": "@jupyter-widgets/controls",
            "_model_module_version": "1.5.0",
            "value": 28,
            "_view_count": null,
            "_view_module_version": "1.5.0",
            "orientation": "horizontal",
            "min": 0,
            "description_tooltip": null,
            "_model_module": "@jupyter-widgets/controls",
            "layout": "IPY_MODEL_42e26e401dde442dad347c05e668e37b"
          }
        },
        "2bdaac4000554000978db342c508688b": {
          "model_module": "@jupyter-widgets/controls",
          "model_name": "HTMLModel",
          "state": {
            "_view_name": "HTMLView",
            "style": "IPY_MODEL_41cc5c836192425b99d717366b16e3a3",
            "_dom_classes": [],
            "description": "",
            "_model_name": "HTMLModel",
            "placeholder": "​",
            "_view_module": "@jupyter-widgets/controls",
            "_model_module_version": "1.5.0",
            "value": " 28.0/28.0 [00:00&lt;00:00, 58.9B/s]",
            "_view_count": null,
            "_view_module_version": "1.5.0",
            "description_tooltip": null,
            "_model_module": "@jupyter-widgets/controls",
            "layout": "IPY_MODEL_fac5922c80fc454280b456235bb4ac40"
          }
        },
        "0134969b38d4456a86a181eb5eed2d9a": {
          "model_module": "@jupyter-widgets/controls",
          "model_name": "ProgressStyleModel",
          "state": {
            "_view_name": "StyleView",
            "_model_name": "ProgressStyleModel",
            "description_width": "initial",
            "_view_module": "@jupyter-widgets/base",
            "_model_module_version": "1.5.0",
            "_view_count": null,
            "_view_module_version": "1.2.0",
            "bar_color": null,
            "_model_module": "@jupyter-widgets/controls"
          }
        },
        "42e26e401dde442dad347c05e668e37b": {
          "model_module": "@jupyter-widgets/base",
          "model_name": "LayoutModel",
          "state": {
            "_view_name": "LayoutView",
            "grid_template_rows": null,
            "right": null,
            "justify_content": null,
            "_view_module": "@jupyter-widgets/base",
            "overflow": null,
            "_model_module_version": "1.2.0",
            "_view_count": null,
            "flex_flow": null,
            "width": null,
            "min_width": null,
            "border": null,
            "align_items": null,
            "bottom": null,
            "_model_module": "@jupyter-widgets/base",
            "top": null,
            "grid_column": null,
            "overflow_y": null,
            "overflow_x": null,
            "grid_auto_flow": null,
            "grid_area": null,
            "grid_template_columns": null,
            "flex": null,
            "_model_name": "LayoutModel",
            "justify_items": null,
            "grid_row": null,
            "max_height": null,
            "align_content": null,
            "visibility": null,
            "align_self": null,
            "height": null,
            "min_height": null,
            "padding": null,
            "grid_auto_rows": null,
            "grid_gap": null,
            "max_width": null,
            "order": null,
            "_view_module_version": "1.2.0",
            "grid_template_areas": null,
            "object_position": null,
            "object_fit": null,
            "grid_auto_columns": null,
            "margin": null,
            "display": null,
            "left": null
          }
        },
        "41cc5c836192425b99d717366b16e3a3": {
          "model_module": "@jupyter-widgets/controls",
          "model_name": "DescriptionStyleModel",
          "state": {
            "_view_name": "StyleView",
            "_model_name": "DescriptionStyleModel",
            "description_width": "",
            "_view_module": "@jupyter-widgets/base",
            "_model_module_version": "1.5.0",
            "_view_count": null,
            "_view_module_version": "1.2.0",
            "_model_module": "@jupyter-widgets/controls"
          }
        },
        "fac5922c80fc454280b456235bb4ac40": {
          "model_module": "@jupyter-widgets/base",
          "model_name": "LayoutModel",
          "state": {
            "_view_name": "LayoutView",
            "grid_template_rows": null,
            "right": null,
            "justify_content": null,
            "_view_module": "@jupyter-widgets/base",
            "overflow": null,
            "_model_module_version": "1.2.0",
            "_view_count": null,
            "flex_flow": null,
            "width": null,
            "min_width": null,
            "border": null,
            "align_items": null,
            "bottom": null,
            "_model_module": "@jupyter-widgets/base",
            "top": null,
            "grid_column": null,
            "overflow_y": null,
            "overflow_x": null,
            "grid_auto_flow": null,
            "grid_area": null,
            "grid_template_columns": null,
            "flex": null,
            "_model_name": "LayoutModel",
            "justify_items": null,
            "grid_row": null,
            "max_height": null,
            "align_content": null,
            "visibility": null,
            "align_self": null,
            "height": null,
            "min_height": null,
            "padding": null,
            "grid_auto_rows": null,
            "grid_gap": null,
            "max_width": null,
            "order": null,
            "_view_module_version": "1.2.0",
            "grid_template_areas": null,
            "object_position": null,
            "object_fit": null,
            "grid_auto_columns": null,
            "margin": null,
            "display": null,
            "left": null
          }
        },
        "b90f061c34e743338408ce1849b7380d": {
          "model_module": "@jupyter-widgets/controls",
          "model_name": "HBoxModel",
          "state": {
            "_view_name": "HBoxView",
            "_dom_classes": [],
            "_model_name": "HBoxModel",
            "_view_module": "@jupyter-widgets/controls",
            "_model_module_version": "1.5.0",
            "_view_count": null,
            "_view_module_version": "1.5.0",
            "box_style": "",
            "layout": "IPY_MODEL_6cba50f6a53849148701964dc1e322fd",
            "_model_module": "@jupyter-widgets/controls",
            "children": [
              "IPY_MODEL_77107e9987c24ff38c6a152068f5c37e",
              "IPY_MODEL_6fa68f3ca55c484e91f9924c78f56252"
            ]
          }
        },
        "6cba50f6a53849148701964dc1e322fd": {
          "model_module": "@jupyter-widgets/base",
          "model_name": "LayoutModel",
          "state": {
            "_view_name": "LayoutView",
            "grid_template_rows": null,
            "right": null,
            "justify_content": null,
            "_view_module": "@jupyter-widgets/base",
            "overflow": null,
            "_model_module_version": "1.2.0",
            "_view_count": null,
            "flex_flow": null,
            "width": null,
            "min_width": null,
            "border": null,
            "align_items": null,
            "bottom": null,
            "_model_module": "@jupyter-widgets/base",
            "top": null,
            "grid_column": null,
            "overflow_y": null,
            "overflow_x": null,
            "grid_auto_flow": null,
            "grid_area": null,
            "grid_template_columns": null,
            "flex": null,
            "_model_name": "LayoutModel",
            "justify_items": null,
            "grid_row": null,
            "max_height": null,
            "align_content": null,
            "visibility": null,
            "align_self": null,
            "height": null,
            "min_height": null,
            "padding": null,
            "grid_auto_rows": null,
            "grid_gap": null,
            "max_width": null,
            "order": null,
            "_view_module_version": "1.2.0",
            "grid_template_areas": null,
            "object_position": null,
            "object_fit": null,
            "grid_auto_columns": null,
            "margin": null,
            "display": null,
            "left": null
          }
        },
        "77107e9987c24ff38c6a152068f5c37e": {
          "model_module": "@jupyter-widgets/controls",
          "model_name": "FloatProgressModel",
          "state": {
            "_view_name": "ProgressView",
            "style": "IPY_MODEL_1d1644a845694b7f9dce16289ea77f70",
            "_dom_classes": [],
            "description": "Downloading: 100%",
            "_model_name": "FloatProgressModel",
            "bar_style": "success",
            "max": 466062,
            "_view_module": "@jupyter-widgets/controls",
            "_model_module_version": "1.5.0",
            "value": 466062,
            "_view_count": null,
            "_view_module_version": "1.5.0",
            "orientation": "horizontal",
            "min": 0,
            "description_tooltip": null,
            "_model_module": "@jupyter-widgets/controls",
            "layout": "IPY_MODEL_43df9ed817434358b03af1ae26f823c5"
          }
        },
        "6fa68f3ca55c484e91f9924c78f56252": {
          "model_module": "@jupyter-widgets/controls",
          "model_name": "HTMLModel",
          "state": {
            "_view_name": "HTMLView",
            "style": "IPY_MODEL_2a8cf2c70af240e58582a9ca1ddfa679",
            "_dom_classes": [],
            "description": "",
            "_model_name": "HTMLModel",
            "placeholder": "​",
            "_view_module": "@jupyter-widgets/controls",
            "_model_module_version": "1.5.0",
            "value": " 466k/466k [00:00&lt;00:00, 2.33MB/s]",
            "_view_count": null,
            "_view_module_version": "1.5.0",
            "description_tooltip": null,
            "_model_module": "@jupyter-widgets/controls",
            "layout": "IPY_MODEL_44825e98ff844bdba55ae4e3abcf6bc7"
          }
        },
        "1d1644a845694b7f9dce16289ea77f70": {
          "model_module": "@jupyter-widgets/controls",
          "model_name": "ProgressStyleModel",
          "state": {
            "_view_name": "StyleView",
            "_model_name": "ProgressStyleModel",
            "description_width": "initial",
            "_view_module": "@jupyter-widgets/base",
            "_model_module_version": "1.5.0",
            "_view_count": null,
            "_view_module_version": "1.2.0",
            "bar_color": null,
            "_model_module": "@jupyter-widgets/controls"
          }
        },
        "43df9ed817434358b03af1ae26f823c5": {
          "model_module": "@jupyter-widgets/base",
          "model_name": "LayoutModel",
          "state": {
            "_view_name": "LayoutView",
            "grid_template_rows": null,
            "right": null,
            "justify_content": null,
            "_view_module": "@jupyter-widgets/base",
            "overflow": null,
            "_model_module_version": "1.2.0",
            "_view_count": null,
            "flex_flow": null,
            "width": null,
            "min_width": null,
            "border": null,
            "align_items": null,
            "bottom": null,
            "_model_module": "@jupyter-widgets/base",
            "top": null,
            "grid_column": null,
            "overflow_y": null,
            "overflow_x": null,
            "grid_auto_flow": null,
            "grid_area": null,
            "grid_template_columns": null,
            "flex": null,
            "_model_name": "LayoutModel",
            "justify_items": null,
            "grid_row": null,
            "max_height": null,
            "align_content": null,
            "visibility": null,
            "align_self": null,
            "height": null,
            "min_height": null,
            "padding": null,
            "grid_auto_rows": null,
            "grid_gap": null,
            "max_width": null,
            "order": null,
            "_view_module_version": "1.2.0",
            "grid_template_areas": null,
            "object_position": null,
            "object_fit": null,
            "grid_auto_columns": null,
            "margin": null,
            "display": null,
            "left": null
          }
        },
        "2a8cf2c70af240e58582a9ca1ddfa679": {
          "model_module": "@jupyter-widgets/controls",
          "model_name": "DescriptionStyleModel",
          "state": {
            "_view_name": "StyleView",
            "_model_name": "DescriptionStyleModel",
            "description_width": "",
            "_view_module": "@jupyter-widgets/base",
            "_model_module_version": "1.5.0",
            "_view_count": null,
            "_view_module_version": "1.2.0",
            "_model_module": "@jupyter-widgets/controls"
          }
        },
        "44825e98ff844bdba55ae4e3abcf6bc7": {
          "model_module": "@jupyter-widgets/base",
          "model_name": "LayoutModel",
          "state": {
            "_view_name": "LayoutView",
            "grid_template_rows": null,
            "right": null,
            "justify_content": null,
            "_view_module": "@jupyter-widgets/base",
            "overflow": null,
            "_model_module_version": "1.2.0",
            "_view_count": null,
            "flex_flow": null,
            "width": null,
            "min_width": null,
            "border": null,
            "align_items": null,
            "bottom": null,
            "_model_module": "@jupyter-widgets/base",
            "top": null,
            "grid_column": null,
            "overflow_y": null,
            "overflow_x": null,
            "grid_auto_flow": null,
            "grid_area": null,
            "grid_template_columns": null,
            "flex": null,
            "_model_name": "LayoutModel",
            "justify_items": null,
            "grid_row": null,
            "max_height": null,
            "align_content": null,
            "visibility": null,
            "align_self": null,
            "height": null,
            "min_height": null,
            "padding": null,
            "grid_auto_rows": null,
            "grid_gap": null,
            "max_width": null,
            "order": null,
            "_view_module_version": "1.2.0",
            "grid_template_areas": null,
            "object_position": null,
            "object_fit": null,
            "grid_auto_columns": null,
            "margin": null,
            "display": null,
            "left": null
          }
        },
        "9c299f3947df4bfebeaec78ecbd982e0": {
          "model_module": "@jupyter-widgets/controls",
          "model_name": "HBoxModel",
          "state": {
            "_view_name": "HBoxView",
            "_dom_classes": [],
            "_model_name": "HBoxModel",
            "_view_module": "@jupyter-widgets/controls",
            "_model_module_version": "1.5.0",
            "_view_count": null,
            "_view_module_version": "1.5.0",
            "box_style": "",
            "layout": "IPY_MODEL_3f4a2601bbdc4548bb53bcbba5ab627b",
            "_model_module": "@jupyter-widgets/controls",
            "children": [
              "IPY_MODEL_f8fe92d45aba48a181f28e6f89dba181",
              "IPY_MODEL_3f10812a87d245d7ae7474f32784b334"
            ]
          }
        },
        "3f4a2601bbdc4548bb53bcbba5ab627b": {
          "model_module": "@jupyter-widgets/base",
          "model_name": "LayoutModel",
          "state": {
            "_view_name": "LayoutView",
            "grid_template_rows": null,
            "right": null,
            "justify_content": null,
            "_view_module": "@jupyter-widgets/base",
            "overflow": null,
            "_model_module_version": "1.2.0",
            "_view_count": null,
            "flex_flow": null,
            "width": null,
            "min_width": null,
            "border": null,
            "align_items": null,
            "bottom": null,
            "_model_module": "@jupyter-widgets/base",
            "top": null,
            "grid_column": null,
            "overflow_y": null,
            "overflow_x": null,
            "grid_auto_flow": null,
            "grid_area": null,
            "grid_template_columns": null,
            "flex": null,
            "_model_name": "LayoutModel",
            "justify_items": null,
            "grid_row": null,
            "max_height": null,
            "align_content": null,
            "visibility": null,
            "align_self": null,
            "height": null,
            "min_height": null,
            "padding": null,
            "grid_auto_rows": null,
            "grid_gap": null,
            "max_width": null,
            "order": null,
            "_view_module_version": "1.2.0",
            "grid_template_areas": null,
            "object_position": null,
            "object_fit": null,
            "grid_auto_columns": null,
            "margin": null,
            "display": null,
            "left": null
          }
        },
        "f8fe92d45aba48a181f28e6f89dba181": {
          "model_module": "@jupyter-widgets/controls",
          "model_name": "FloatProgressModel",
          "state": {
            "_view_name": "ProgressView",
            "style": "IPY_MODEL_2c4e92fd97d245f3bfdbfc9733f9554e",
            "_dom_classes": [],
            "description": "100%",
            "_model_name": "FloatProgressModel",
            "bar_style": "success",
            "max": 5,
            "_view_module": "@jupyter-widgets/controls",
            "_model_module_version": "1.5.0",
            "value": 5,
            "_view_count": null,
            "_view_module_version": "1.5.0",
            "orientation": "horizontal",
            "min": 0,
            "description_tooltip": null,
            "_model_module": "@jupyter-widgets/controls",
            "layout": "IPY_MODEL_339babe48c7449dba0a828d0eab701e2"
          }
        },
        "3f10812a87d245d7ae7474f32784b334": {
          "model_module": "@jupyter-widgets/controls",
          "model_name": "HTMLModel",
          "state": {
            "_view_name": "HTMLView",
            "style": "IPY_MODEL_88049d6e14ef41a9a0e3e9495ddf8ba5",
            "_dom_classes": [],
            "description": "",
            "_model_name": "HTMLModel",
            "placeholder": "​",
            "_view_module": "@jupyter-widgets/controls",
            "_model_module_version": "1.5.0",
            "value": " 5/5 [00:52&lt;00:00, 10.49s/it]",
            "_view_count": null,
            "_view_module_version": "1.5.0",
            "description_tooltip": null,
            "_model_module": "@jupyter-widgets/controls",
            "layout": "IPY_MODEL_6b97b247aa92459d8f1820a7c2547739"
          }
        },
        "2c4e92fd97d245f3bfdbfc9733f9554e": {
          "model_module": "@jupyter-widgets/controls",
          "model_name": "ProgressStyleModel",
          "state": {
            "_view_name": "StyleView",
            "_model_name": "ProgressStyleModel",
            "description_width": "initial",
            "_view_module": "@jupyter-widgets/base",
            "_model_module_version": "1.5.0",
            "_view_count": null,
            "_view_module_version": "1.2.0",
            "bar_color": null,
            "_model_module": "@jupyter-widgets/controls"
          }
        },
        "339babe48c7449dba0a828d0eab701e2": {
          "model_module": "@jupyter-widgets/base",
          "model_name": "LayoutModel",
          "state": {
            "_view_name": "LayoutView",
            "grid_template_rows": null,
            "right": null,
            "justify_content": null,
            "_view_module": "@jupyter-widgets/base",
            "overflow": null,
            "_model_module_version": "1.2.0",
            "_view_count": null,
            "flex_flow": null,
            "width": null,
            "min_width": null,
            "border": null,
            "align_items": null,
            "bottom": null,
            "_model_module": "@jupyter-widgets/base",
            "top": null,
            "grid_column": null,
            "overflow_y": null,
            "overflow_x": null,
            "grid_auto_flow": null,
            "grid_area": null,
            "grid_template_columns": null,
            "flex": null,
            "_model_name": "LayoutModel",
            "justify_items": null,
            "grid_row": null,
            "max_height": null,
            "align_content": null,
            "visibility": null,
            "align_self": null,
            "height": null,
            "min_height": null,
            "padding": null,
            "grid_auto_rows": null,
            "grid_gap": null,
            "max_width": null,
            "order": null,
            "_view_module_version": "1.2.0",
            "grid_template_areas": null,
            "object_position": null,
            "object_fit": null,
            "grid_auto_columns": null,
            "margin": null,
            "display": null,
            "left": null
          }
        },
        "88049d6e14ef41a9a0e3e9495ddf8ba5": {
          "model_module": "@jupyter-widgets/controls",
          "model_name": "DescriptionStyleModel",
          "state": {
            "_view_name": "StyleView",
            "_model_name": "DescriptionStyleModel",
            "description_width": "",
            "_view_module": "@jupyter-widgets/base",
            "_model_module_version": "1.5.0",
            "_view_count": null,
            "_view_module_version": "1.2.0",
            "_model_module": "@jupyter-widgets/controls"
          }
        },
        "6b97b247aa92459d8f1820a7c2547739": {
          "model_module": "@jupyter-widgets/base",
          "model_name": "LayoutModel",
          "state": {
            "_view_name": "LayoutView",
            "grid_template_rows": null,
            "right": null,
            "justify_content": null,
            "_view_module": "@jupyter-widgets/base",
            "overflow": null,
            "_model_module_version": "1.2.0",
            "_view_count": null,
            "flex_flow": null,
            "width": null,
            "min_width": null,
            "border": null,
            "align_items": null,
            "bottom": null,
            "_model_module": "@jupyter-widgets/base",
            "top": null,
            "grid_column": null,
            "overflow_y": null,
            "overflow_x": null,
            "grid_auto_flow": null,
            "grid_area": null,
            "grid_template_columns": null,
            "flex": null,
            "_model_name": "LayoutModel",
            "justify_items": null,
            "grid_row": null,
            "max_height": null,
            "align_content": null,
            "visibility": null,
            "align_self": null,
            "height": null,
            "min_height": null,
            "padding": null,
            "grid_auto_rows": null,
            "grid_gap": null,
            "max_width": null,
            "order": null,
            "_view_module_version": "1.2.0",
            "grid_template_areas": null,
            "object_position": null,
            "object_fit": null,
            "grid_auto_columns": null,
            "margin": null,
            "display": null,
            "left": null
          }
        },
        "fd7a6e8038db41bebb84c2e7d7733ed7": {
          "model_module": "@jupyter-widgets/controls",
          "model_name": "HBoxModel",
          "state": {
            "_view_name": "HBoxView",
            "_dom_classes": [],
            "_model_name": "HBoxModel",
            "_view_module": "@jupyter-widgets/controls",
            "_model_module_version": "1.5.0",
            "_view_count": null,
            "_view_module_version": "1.5.0",
            "box_style": "",
            "layout": "IPY_MODEL_fd7ec026dc504ee79b85e8b53ae464be",
            "_model_module": "@jupyter-widgets/controls",
            "children": [
              "IPY_MODEL_2a0e515a4c6c49fdb37c5d6cff36ce10",
              "IPY_MODEL_99e0ab0e5d174a4f87d5ccef92cbe243"
            ]
          }
        },
        "fd7ec026dc504ee79b85e8b53ae464be": {
          "model_module": "@jupyter-widgets/base",
          "model_name": "LayoutModel",
          "state": {
            "_view_name": "LayoutView",
            "grid_template_rows": null,
            "right": null,
            "justify_content": null,
            "_view_module": "@jupyter-widgets/base",
            "overflow": null,
            "_model_module_version": "1.2.0",
            "_view_count": null,
            "flex_flow": null,
            "width": null,
            "min_width": null,
            "border": null,
            "align_items": null,
            "bottom": null,
            "_model_module": "@jupyter-widgets/base",
            "top": null,
            "grid_column": null,
            "overflow_y": null,
            "overflow_x": null,
            "grid_auto_flow": null,
            "grid_area": null,
            "grid_template_columns": null,
            "flex": null,
            "_model_name": "LayoutModel",
            "justify_items": null,
            "grid_row": null,
            "max_height": null,
            "align_content": null,
            "visibility": null,
            "align_self": null,
            "height": null,
            "min_height": null,
            "padding": null,
            "grid_auto_rows": null,
            "grid_gap": null,
            "max_width": null,
            "order": null,
            "_view_module_version": "1.2.0",
            "grid_template_areas": null,
            "object_position": null,
            "object_fit": null,
            "grid_auto_columns": null,
            "margin": null,
            "display": null,
            "left": null
          }
        },
        "2a0e515a4c6c49fdb37c5d6cff36ce10": {
          "model_module": "@jupyter-widgets/controls",
          "model_name": "FloatProgressModel",
          "state": {
            "_view_name": "ProgressView",
            "style": "IPY_MODEL_b6028aad90aa4de1aab5602701bc3071",
            "_dom_classes": [],
            "description": "100%",
            "_model_name": "FloatProgressModel",
            "bar_style": "success",
            "max": 10,
            "_view_module": "@jupyter-widgets/controls",
            "_model_module_version": "1.5.0",
            "value": 10,
            "_view_count": null,
            "_view_module_version": "1.5.0",
            "orientation": "horizontal",
            "min": 0,
            "description_tooltip": null,
            "_model_module": "@jupyter-widgets/controls",
            "layout": "IPY_MODEL_6810809b14254258b90e49ba422f3626"
          }
        },
        "99e0ab0e5d174a4f87d5ccef92cbe243": {
          "model_module": "@jupyter-widgets/controls",
          "model_name": "HTMLModel",
          "state": {
            "_view_name": "HTMLView",
            "style": "IPY_MODEL_761c99b10041436d8fe0b770c7555a35",
            "_dom_classes": [],
            "description": "",
            "_model_name": "HTMLModel",
            "placeholder": "​",
            "_view_module": "@jupyter-widgets/controls",
            "_model_module_version": "1.5.0",
            "value": " 10/10 [2:40:06&lt;00:00, 960.69s/it]",
            "_view_count": null,
            "_view_module_version": "1.5.0",
            "description_tooltip": null,
            "_model_module": "@jupyter-widgets/controls",
            "layout": "IPY_MODEL_b913a55380fc4fa986128ddade3493f5"
          }
        },
        "b6028aad90aa4de1aab5602701bc3071": {
          "model_module": "@jupyter-widgets/controls",
          "model_name": "ProgressStyleModel",
          "state": {
            "_view_name": "StyleView",
            "_model_name": "ProgressStyleModel",
            "description_width": "initial",
            "_view_module": "@jupyter-widgets/base",
            "_model_module_version": "1.5.0",
            "_view_count": null,
            "_view_module_version": "1.2.0",
            "bar_color": null,
            "_model_module": "@jupyter-widgets/controls"
          }
        },
        "6810809b14254258b90e49ba422f3626": {
          "model_module": "@jupyter-widgets/base",
          "model_name": "LayoutModel",
          "state": {
            "_view_name": "LayoutView",
            "grid_template_rows": null,
            "right": null,
            "justify_content": null,
            "_view_module": "@jupyter-widgets/base",
            "overflow": null,
            "_model_module_version": "1.2.0",
            "_view_count": null,
            "flex_flow": null,
            "width": null,
            "min_width": null,
            "border": null,
            "align_items": null,
            "bottom": null,
            "_model_module": "@jupyter-widgets/base",
            "top": null,
            "grid_column": null,
            "overflow_y": null,
            "overflow_x": null,
            "grid_auto_flow": null,
            "grid_area": null,
            "grid_template_columns": null,
            "flex": null,
            "_model_name": "LayoutModel",
            "justify_items": null,
            "grid_row": null,
            "max_height": null,
            "align_content": null,
            "visibility": null,
            "align_self": null,
            "height": null,
            "min_height": null,
            "padding": null,
            "grid_auto_rows": null,
            "grid_gap": null,
            "max_width": null,
            "order": null,
            "_view_module_version": "1.2.0",
            "grid_template_areas": null,
            "object_position": null,
            "object_fit": null,
            "grid_auto_columns": null,
            "margin": null,
            "display": null,
            "left": null
          }
        },
        "761c99b10041436d8fe0b770c7555a35": {
          "model_module": "@jupyter-widgets/controls",
          "model_name": "DescriptionStyleModel",
          "state": {
            "_view_name": "StyleView",
            "_model_name": "DescriptionStyleModel",
            "description_width": "",
            "_view_module": "@jupyter-widgets/base",
            "_model_module_version": "1.5.0",
            "_view_count": null,
            "_view_module_version": "1.2.0",
            "_model_module": "@jupyter-widgets/controls"
          }
        },
        "b913a55380fc4fa986128ddade3493f5": {
          "model_module": "@jupyter-widgets/base",
          "model_name": "LayoutModel",
          "state": {
            "_view_name": "LayoutView",
            "grid_template_rows": null,
            "right": null,
            "justify_content": null,
            "_view_module": "@jupyter-widgets/base",
            "overflow": null,
            "_model_module_version": "1.2.0",
            "_view_count": null,
            "flex_flow": null,
            "width": null,
            "min_width": null,
            "border": null,
            "align_items": null,
            "bottom": null,
            "_model_module": "@jupyter-widgets/base",
            "top": null,
            "grid_column": null,
            "overflow_y": null,
            "overflow_x": null,
            "grid_auto_flow": null,
            "grid_area": null,
            "grid_template_columns": null,
            "flex": null,
            "_model_name": "LayoutModel",
            "justify_items": null,
            "grid_row": null,
            "max_height": null,
            "align_content": null,
            "visibility": null,
            "align_self": null,
            "height": null,
            "min_height": null,
            "padding": null,
            "grid_auto_rows": null,
            "grid_gap": null,
            "max_width": null,
            "order": null,
            "_view_module_version": "1.2.0",
            "grid_template_areas": null,
            "object_position": null,
            "object_fit": null,
            "grid_auto_columns": null,
            "margin": null,
            "display": null,
            "left": null
          }
        },
        "ad723f9930c34e658e0b888f1b3c4e91": {
          "model_module": "@jupyter-widgets/controls",
          "model_name": "HBoxModel",
          "state": {
            "_view_name": "HBoxView",
            "_dom_classes": [],
            "_model_name": "HBoxModel",
            "_view_module": "@jupyter-widgets/controls",
            "_model_module_version": "1.5.0",
            "_view_count": null,
            "_view_module_version": "1.5.0",
            "box_style": "",
            "layout": "IPY_MODEL_480b2f9b73ca46d1994fadf1bd056e84",
            "_model_module": "@jupyter-widgets/controls",
            "children": [
              "IPY_MODEL_066c1a8386a743d79783af7a7dd0db0c",
              "IPY_MODEL_d3d69170789d45e19b2c0ef7131f19e0"
            ]
          }
        },
        "480b2f9b73ca46d1994fadf1bd056e84": {
          "model_module": "@jupyter-widgets/base",
          "model_name": "LayoutModel",
          "state": {
            "_view_name": "LayoutView",
            "grid_template_rows": null,
            "right": null,
            "justify_content": null,
            "_view_module": "@jupyter-widgets/base",
            "overflow": null,
            "_model_module_version": "1.2.0",
            "_view_count": null,
            "flex_flow": null,
            "width": null,
            "min_width": null,
            "border": null,
            "align_items": null,
            "bottom": null,
            "_model_module": "@jupyter-widgets/base",
            "top": null,
            "grid_column": null,
            "overflow_y": null,
            "overflow_x": null,
            "grid_auto_flow": null,
            "grid_area": null,
            "grid_template_columns": null,
            "flex": null,
            "_model_name": "LayoutModel",
            "justify_items": null,
            "grid_row": null,
            "max_height": null,
            "align_content": null,
            "visibility": null,
            "align_self": null,
            "height": null,
            "min_height": null,
            "padding": null,
            "grid_auto_rows": null,
            "grid_gap": null,
            "max_width": null,
            "order": null,
            "_view_module_version": "1.2.0",
            "grid_template_areas": null,
            "object_position": null,
            "object_fit": null,
            "grid_auto_columns": null,
            "margin": null,
            "display": null,
            "left": null
          }
        },
        "066c1a8386a743d79783af7a7dd0db0c": {
          "model_module": "@jupyter-widgets/controls",
          "model_name": "FloatProgressModel",
          "state": {
            "_view_name": "ProgressView",
            "style": "IPY_MODEL_67056949b9b949039a306f2cd3b1a81f",
            "_dom_classes": [],
            "description": "Downloading: 100%",
            "_model_name": "FloatProgressModel",
            "bar_style": "success",
            "max": 433,
            "_view_module": "@jupyter-widgets/controls",
            "_model_module_version": "1.5.0",
            "value": 433,
            "_view_count": null,
            "_view_module_version": "1.5.0",
            "orientation": "horizontal",
            "min": 0,
            "description_tooltip": null,
            "_model_module": "@jupyter-widgets/controls",
            "layout": "IPY_MODEL_aef7b267a862439b83b958da39f6b04f"
          }
        },
        "d3d69170789d45e19b2c0ef7131f19e0": {
          "model_module": "@jupyter-widgets/controls",
          "model_name": "HTMLModel",
          "state": {
            "_view_name": "HTMLView",
            "style": "IPY_MODEL_82f1e6693910416cbf7977827c546b6e",
            "_dom_classes": [],
            "description": "",
            "_model_name": "HTMLModel",
            "placeholder": "​",
            "_view_module": "@jupyter-widgets/controls",
            "_model_module_version": "1.5.0",
            "value": " 433/433 [00:00&lt;00:00, 2.74kB/s]",
            "_view_count": null,
            "_view_module_version": "1.5.0",
            "description_tooltip": null,
            "_model_module": "@jupyter-widgets/controls",
            "layout": "IPY_MODEL_5ff2181cfbb04587a0d35be45259f784"
          }
        },
        "67056949b9b949039a306f2cd3b1a81f": {
          "model_module": "@jupyter-widgets/controls",
          "model_name": "ProgressStyleModel",
          "state": {
            "_view_name": "StyleView",
            "_model_name": "ProgressStyleModel",
            "description_width": "initial",
            "_view_module": "@jupyter-widgets/base",
            "_model_module_version": "1.5.0",
            "_view_count": null,
            "_view_module_version": "1.2.0",
            "bar_color": null,
            "_model_module": "@jupyter-widgets/controls"
          }
        },
        "aef7b267a862439b83b958da39f6b04f": {
          "model_module": "@jupyter-widgets/base",
          "model_name": "LayoutModel",
          "state": {
            "_view_name": "LayoutView",
            "grid_template_rows": null,
            "right": null,
            "justify_content": null,
            "_view_module": "@jupyter-widgets/base",
            "overflow": null,
            "_model_module_version": "1.2.0",
            "_view_count": null,
            "flex_flow": null,
            "width": null,
            "min_width": null,
            "border": null,
            "align_items": null,
            "bottom": null,
            "_model_module": "@jupyter-widgets/base",
            "top": null,
            "grid_column": null,
            "overflow_y": null,
            "overflow_x": null,
            "grid_auto_flow": null,
            "grid_area": null,
            "grid_template_columns": null,
            "flex": null,
            "_model_name": "LayoutModel",
            "justify_items": null,
            "grid_row": null,
            "max_height": null,
            "align_content": null,
            "visibility": null,
            "align_self": null,
            "height": null,
            "min_height": null,
            "padding": null,
            "grid_auto_rows": null,
            "grid_gap": null,
            "max_width": null,
            "order": null,
            "_view_module_version": "1.2.0",
            "grid_template_areas": null,
            "object_position": null,
            "object_fit": null,
            "grid_auto_columns": null,
            "margin": null,
            "display": null,
            "left": null
          }
        },
        "82f1e6693910416cbf7977827c546b6e": {
          "model_module": "@jupyter-widgets/controls",
          "model_name": "DescriptionStyleModel",
          "state": {
            "_view_name": "StyleView",
            "_model_name": "DescriptionStyleModel",
            "description_width": "",
            "_view_module": "@jupyter-widgets/base",
            "_model_module_version": "1.5.0",
            "_view_count": null,
            "_view_module_version": "1.2.0",
            "_model_module": "@jupyter-widgets/controls"
          }
        },
        "5ff2181cfbb04587a0d35be45259f784": {
          "model_module": "@jupyter-widgets/base",
          "model_name": "LayoutModel",
          "state": {
            "_view_name": "LayoutView",
            "grid_template_rows": null,
            "right": null,
            "justify_content": null,
            "_view_module": "@jupyter-widgets/base",
            "overflow": null,
            "_model_module_version": "1.2.0",
            "_view_count": null,
            "flex_flow": null,
            "width": null,
            "min_width": null,
            "border": null,
            "align_items": null,
            "bottom": null,
            "_model_module": "@jupyter-widgets/base",
            "top": null,
            "grid_column": null,
            "overflow_y": null,
            "overflow_x": null,
            "grid_auto_flow": null,
            "grid_area": null,
            "grid_template_columns": null,
            "flex": null,
            "_model_name": "LayoutModel",
            "justify_items": null,
            "grid_row": null,
            "max_height": null,
            "align_content": null,
            "visibility": null,
            "align_self": null,
            "height": null,
            "min_height": null,
            "padding": null,
            "grid_auto_rows": null,
            "grid_gap": null,
            "max_width": null,
            "order": null,
            "_view_module_version": "1.2.0",
            "grid_template_areas": null,
            "object_position": null,
            "object_fit": null,
            "grid_auto_columns": null,
            "margin": null,
            "display": null,
            "left": null
          }
        },
        "b928135024da4de896e8af68c0f33a69": {
          "model_module": "@jupyter-widgets/controls",
          "model_name": "HBoxModel",
          "state": {
            "_view_name": "HBoxView",
            "_dom_classes": [],
            "_model_name": "HBoxModel",
            "_view_module": "@jupyter-widgets/controls",
            "_model_module_version": "1.5.0",
            "_view_count": null,
            "_view_module_version": "1.5.0",
            "box_style": "",
            "layout": "IPY_MODEL_768e89c89aff4f7ba4e9ef88967e3c70",
            "_model_module": "@jupyter-widgets/controls",
            "children": [
              "IPY_MODEL_e5ea9b1f897c4cf8b5d13a6f607552b6",
              "IPY_MODEL_9b11479abade41fca4949dcdb19b377f"
            ]
          }
        },
        "768e89c89aff4f7ba4e9ef88967e3c70": {
          "model_module": "@jupyter-widgets/base",
          "model_name": "LayoutModel",
          "state": {
            "_view_name": "LayoutView",
            "grid_template_rows": null,
            "right": null,
            "justify_content": null,
            "_view_module": "@jupyter-widgets/base",
            "overflow": null,
            "_model_module_version": "1.2.0",
            "_view_count": null,
            "flex_flow": null,
            "width": null,
            "min_width": null,
            "border": null,
            "align_items": null,
            "bottom": null,
            "_model_module": "@jupyter-widgets/base",
            "top": null,
            "grid_column": null,
            "overflow_y": null,
            "overflow_x": null,
            "grid_auto_flow": null,
            "grid_area": null,
            "grid_template_columns": null,
            "flex": null,
            "_model_name": "LayoutModel",
            "justify_items": null,
            "grid_row": null,
            "max_height": null,
            "align_content": null,
            "visibility": null,
            "align_self": null,
            "height": null,
            "min_height": null,
            "padding": null,
            "grid_auto_rows": null,
            "grid_gap": null,
            "max_width": null,
            "order": null,
            "_view_module_version": "1.2.0",
            "grid_template_areas": null,
            "object_position": null,
            "object_fit": null,
            "grid_auto_columns": null,
            "margin": null,
            "display": null,
            "left": null
          }
        },
        "e5ea9b1f897c4cf8b5d13a6f607552b6": {
          "model_module": "@jupyter-widgets/controls",
          "model_name": "FloatProgressModel",
          "state": {
            "_view_name": "ProgressView",
            "style": "IPY_MODEL_50a5061321ae42e899e6892c5408550a",
            "_dom_classes": [],
            "description": "Downloading: 100%",
            "_model_name": "FloatProgressModel",
            "bar_style": "success",
            "max": 536063208,
            "_view_module": "@jupyter-widgets/controls",
            "_model_module_version": "1.5.0",
            "value": 536063208,
            "_view_count": null,
            "_view_module_version": "1.5.0",
            "orientation": "horizontal",
            "min": 0,
            "description_tooltip": null,
            "_model_module": "@jupyter-widgets/controls",
            "layout": "IPY_MODEL_9b26963b236a45a9a393aa772f77df43"
          }
        },
        "9b11479abade41fca4949dcdb19b377f": {
          "model_module": "@jupyter-widgets/controls",
          "model_name": "HTMLModel",
          "state": {
            "_view_name": "HTMLView",
            "style": "IPY_MODEL_1ce27fe3c6c84630b4ace368f1392947",
            "_dom_classes": [],
            "description": "",
            "_model_name": "HTMLModel",
            "placeholder": "​",
            "_view_module": "@jupyter-widgets/controls",
            "_model_module_version": "1.5.0",
            "value": " 536M/536M [00:57&lt;00:00, 9.38MB/s]",
            "_view_count": null,
            "_view_module_version": "1.5.0",
            "description_tooltip": null,
            "_model_module": "@jupyter-widgets/controls",
            "layout": "IPY_MODEL_ccef2783d9f0457bb61210c3078292e1"
          }
        },
        "50a5061321ae42e899e6892c5408550a": {
          "model_module": "@jupyter-widgets/controls",
          "model_name": "ProgressStyleModel",
          "state": {
            "_view_name": "StyleView",
            "_model_name": "ProgressStyleModel",
            "description_width": "initial",
            "_view_module": "@jupyter-widgets/base",
            "_model_module_version": "1.5.0",
            "_view_count": null,
            "_view_module_version": "1.2.0",
            "bar_color": null,
            "_model_module": "@jupyter-widgets/controls"
          }
        },
        "9b26963b236a45a9a393aa772f77df43": {
          "model_module": "@jupyter-widgets/base",
          "model_name": "LayoutModel",
          "state": {
            "_view_name": "LayoutView",
            "grid_template_rows": null,
            "right": null,
            "justify_content": null,
            "_view_module": "@jupyter-widgets/base",
            "overflow": null,
            "_model_module_version": "1.2.0",
            "_view_count": null,
            "flex_flow": null,
            "width": null,
            "min_width": null,
            "border": null,
            "align_items": null,
            "bottom": null,
            "_model_module": "@jupyter-widgets/base",
            "top": null,
            "grid_column": null,
            "overflow_y": null,
            "overflow_x": null,
            "grid_auto_flow": null,
            "grid_area": null,
            "grid_template_columns": null,
            "flex": null,
            "_model_name": "LayoutModel",
            "justify_items": null,
            "grid_row": null,
            "max_height": null,
            "align_content": null,
            "visibility": null,
            "align_self": null,
            "height": null,
            "min_height": null,
            "padding": null,
            "grid_auto_rows": null,
            "grid_gap": null,
            "max_width": null,
            "order": null,
            "_view_module_version": "1.2.0",
            "grid_template_areas": null,
            "object_position": null,
            "object_fit": null,
            "grid_auto_columns": null,
            "margin": null,
            "display": null,
            "left": null
          }
        },
        "1ce27fe3c6c84630b4ace368f1392947": {
          "model_module": "@jupyter-widgets/controls",
          "model_name": "DescriptionStyleModel",
          "state": {
            "_view_name": "StyleView",
            "_model_name": "DescriptionStyleModel",
            "description_width": "",
            "_view_module": "@jupyter-widgets/base",
            "_model_module_version": "1.5.0",
            "_view_count": null,
            "_view_module_version": "1.2.0",
            "_model_module": "@jupyter-widgets/controls"
          }
        },
        "ccef2783d9f0457bb61210c3078292e1": {
          "model_module": "@jupyter-widgets/base",
          "model_name": "LayoutModel",
          "state": {
            "_view_name": "LayoutView",
            "grid_template_rows": null,
            "right": null,
            "justify_content": null,
            "_view_module": "@jupyter-widgets/base",
            "overflow": null,
            "_model_module_version": "1.2.0",
            "_view_count": null,
            "flex_flow": null,
            "width": null,
            "min_width": null,
            "border": null,
            "align_items": null,
            "bottom": null,
            "_model_module": "@jupyter-widgets/base",
            "top": null,
            "grid_column": null,
            "overflow_y": null,
            "overflow_x": null,
            "grid_auto_flow": null,
            "grid_area": null,
            "grid_template_columns": null,
            "flex": null,
            "_model_name": "LayoutModel",
            "justify_items": null,
            "grid_row": null,
            "max_height": null,
            "align_content": null,
            "visibility": null,
            "align_self": null,
            "height": null,
            "min_height": null,
            "padding": null,
            "grid_auto_rows": null,
            "grid_gap": null,
            "max_width": null,
            "order": null,
            "_view_module_version": "1.2.0",
            "grid_template_areas": null,
            "object_position": null,
            "object_fit": null,
            "grid_auto_columns": null,
            "margin": null,
            "display": null,
            "left": null
          }
        }
      }
    }
  },
  "cells": [
    {
      "cell_type": "markdown",
      "metadata": {
        "id": "view-in-github",
        "colab_type": "text"
      },
      "source": [
        "<a href=\"https://colab.research.google.com/github/hyang0129/bertlabelnoise/blob/main/BERT_LABELNOISE_TRAINER.ipynb\" target=\"_parent\"><img src=\"https://colab.research.google.com/assets/colab-badge.svg\" alt=\"Open In Colab\"/></a>"
      ]
    },
    {
      "cell_type": "markdown",
      "metadata": {
        "id": "YMXrVZtjkTfC"
      },
      "source": [
        "# SETUP\n",
        "\n",
        "These are the necessary steps to prepare the google colab environment"
      ]
    },
    {
      "cell_type": "code",
      "metadata": {
        "colab": {
          "base_uri": "https://localhost:8080/"
        },
        "id": "O6fYmBHIemCi",
        "outputId": "2f531e3d-7196-4a1e-848b-054c0b5b5f19"
      },
      "source": [
        "!pip install -q einops\n",
        "!pip install --upgrade tensorflow_addons\n",
        "!pip install -q efficientnet\n",
        "!pip install transformers"
      ],
      "execution_count": null,
      "outputs": [
        {
          "output_type": "stream",
          "text": [
            "Collecting tensorflow_addons\n",
            "\u001b[?25l  Downloading https://files.pythonhosted.org/packages/74/e3/56d2fe76f0bb7c88ed9b2a6a557e25e83e252aec08f13de34369cd850a0b/tensorflow_addons-0.12.1-cp37-cp37m-manylinux2010_x86_64.whl (703kB)\n",
            "\u001b[K     |████████████████████████████████| 706kB 7.3MB/s \n",
            "\u001b[?25hRequirement already satisfied, skipping upgrade: typeguard>=2.7 in /usr/local/lib/python3.7/dist-packages (from tensorflow_addons) (2.7.1)\n",
            "Installing collected packages: tensorflow-addons\n",
            "Successfully installed tensorflow-addons-0.12.1\n",
            "\u001b[K     |████████████████████████████████| 51kB 2.7MB/s \n",
            "\u001b[?25hCollecting transformers\n",
            "\u001b[?25l  Downloading https://files.pythonhosted.org/packages/d8/b2/57495b5309f09fa501866e225c84532d1fd89536ea62406b2181933fb418/transformers-4.5.1-py3-none-any.whl (2.1MB)\n",
            "\u001b[K     |████████████████████████████████| 2.1MB 6.1MB/s \n",
            "\u001b[?25hCollecting tokenizers<0.11,>=0.10.1\n",
            "\u001b[?25l  Downloading https://files.pythonhosted.org/packages/ae/04/5b870f26a858552025a62f1649c20d29d2672c02ff3c3fb4c688ca46467a/tokenizers-0.10.2-cp37-cp37m-manylinux2010_x86_64.whl (3.3MB)\n",
            "\u001b[K     |████████████████████████████████| 3.3MB 23.6MB/s \n",
            "\u001b[?25hRequirement already satisfied: tqdm>=4.27 in /usr/local/lib/python3.7/dist-packages (from transformers) (4.41.1)\n",
            "Collecting sacremoses\n",
            "\u001b[?25l  Downloading https://files.pythonhosted.org/packages/75/ee/67241dc87f266093c533a2d4d3d69438e57d7a90abb216fa076e7d475d4a/sacremoses-0.0.45-py3-none-any.whl (895kB)\n",
            "\u001b[K     |████████████████████████████████| 901kB 40.5MB/s \n",
            "\u001b[?25hRequirement already satisfied: filelock in /usr/local/lib/python3.7/dist-packages (from transformers) (3.0.12)\n",
            "Requirement already satisfied: regex!=2019.12.17 in /usr/local/lib/python3.7/dist-packages (from transformers) (2019.12.20)\n",
            "Requirement already satisfied: packaging in /usr/local/lib/python3.7/dist-packages (from transformers) (20.9)\n",
            "Requirement already satisfied: importlib-metadata; python_version < \"3.8\" in /usr/local/lib/python3.7/dist-packages (from transformers) (3.10.1)\n",
            "Requirement already satisfied: numpy>=1.17 in /usr/local/lib/python3.7/dist-packages (from transformers) (1.19.5)\n",
            "Requirement already satisfied: requests in /usr/local/lib/python3.7/dist-packages (from transformers) (2.23.0)\n",
            "Requirement already satisfied: six in /usr/local/lib/python3.7/dist-packages (from sacremoses->transformers) (1.15.0)\n",
            "Requirement already satisfied: click in /usr/local/lib/python3.7/dist-packages (from sacremoses->transformers) (7.1.2)\n",
            "Requirement already satisfied: joblib in /usr/local/lib/python3.7/dist-packages (from sacremoses->transformers) (1.0.1)\n",
            "Requirement already satisfied: pyparsing>=2.0.2 in /usr/local/lib/python3.7/dist-packages (from packaging->transformers) (2.4.7)\n",
            "Requirement already satisfied: typing-extensions>=3.6.4; python_version < \"3.8\" in /usr/local/lib/python3.7/dist-packages (from importlib-metadata; python_version < \"3.8\"->transformers) (3.7.4.3)\n",
            "Requirement already satisfied: zipp>=0.5 in /usr/local/lib/python3.7/dist-packages (from importlib-metadata; python_version < \"3.8\"->transformers) (3.4.1)\n",
            "Requirement already satisfied: certifi>=2017.4.17 in /usr/local/lib/python3.7/dist-packages (from requests->transformers) (2020.12.5)\n",
            "Requirement already satisfied: chardet<4,>=3.0.2 in /usr/local/lib/python3.7/dist-packages (from requests->transformers) (3.0.4)\n",
            "Requirement already satisfied: idna<3,>=2.5 in /usr/local/lib/python3.7/dist-packages (from requests->transformers) (2.10)\n",
            "Requirement already satisfied: urllib3!=1.25.0,!=1.25.1,<1.26,>=1.21.1 in /usr/local/lib/python3.7/dist-packages (from requests->transformers) (1.24.3)\n",
            "Installing collected packages: tokenizers, sacremoses, transformers\n",
            "Successfully installed sacremoses-0.0.45 tokenizers-0.10.2 transformers-4.5.1\n"
          ],
          "name": "stdout"
        }
      ]
    },
    {
      "cell_type": "code",
      "metadata": {
        "colab": {
          "base_uri": "https://localhost:8080/"
        },
        "id": "5iavzNXP0rCD",
        "outputId": "f257f019-5de3-4aa9-a75a-d4951c49f81a"
      },
      "source": [
        "!pip install compress_pickle"
      ],
      "execution_count": null,
      "outputs": [
        {
          "output_type": "stream",
          "text": [
            "Collecting compress_pickle\n",
            "  Downloading https://files.pythonhosted.org/packages/1d/cd/5f949f8b661e901577fc826941f10c9b0f3c00b9be0e26f0b6739ddbbbcd/compress_pickle-2.0.1-py3-none-any.whl\n",
            "Installing collected packages: compress-pickle\n",
            "Successfully installed compress-pickle-2.0.1\n"
          ],
          "name": "stdout"
        }
      ]
    },
    {
      "cell_type": "code",
      "metadata": {
        "id": "NI7voQrdet7S"
      },
      "source": [
        "import tensorflow_datasets as tfds\n",
        "\n",
        "import math, re, os\n",
        "import numpy as np\n",
        "import pandas as pd\n",
        "from matplotlib import pyplot as plt\n",
        "import tensorflow as tf\n",
        "import tensorflow.keras.layers as L\n",
        "from sklearn import metrics\n",
        "from sklearn.model_selection import train_test_split, KFold\n",
        "import cv2\n",
        "import tensorflow_addons as tfa\n",
        "import PIL\n",
        "import tensorflow.keras.backend as K\n",
        "from tqdm.notebook import tqdm\n",
        "import tensorflow_datasets as tfds\n",
        "from einops import rearrange\n",
        "import tensorflow_addons as tfa\n",
        "from transformers import BertTokenizer, TFBertForSequenceClassification, TFDistilBertForSequenceClassification, TFBertModel\n",
        "from compress_pickle import dump, load\n",
        "\n",
        "plt.rcParams['figure.figsize'] = [12, 8]\n",
        "plt.rcParams['figure.dpi'] = 100\n"
      ],
      "execution_count": null,
      "outputs": []
    },
    {
      "cell_type": "code",
      "metadata": {
        "colab": {
          "base_uri": "https://localhost:8080/"
        },
        "id": "4wL30pHwkYt7",
        "outputId": "a6eaff54-a340-4d22-e87f-fdba79f34a88"
      },
      "source": [
        "import os\n",
        "assert 'COLAB_TPU_ADDR' in os.environ, 'ERROR: Not connected to a TPU runtime; please see the first cell in this notebook for instructions!'\n",
        "TPU_ADDRESS = 'grpc://' + os.environ['COLAB_TPU_ADDR']\n",
        "print('TPU address is', TPU_ADDRESS)\n",
        "\n",
        "import tensorflow as tf\n",
        "# Detect hardware, return appropriate distribution strategy\n",
        "try:\n",
        "    # TPU detection. No parameters necessary if TPU_NAME environment variable is\n",
        "    # set: this is always the case on Kaggle.\n",
        "    tpu = tf.distribute.cluster_resolver.TPUClusterResolver()\n",
        "    print('Running on TPU ', tpu.master())\n",
        "except ValueError:\n",
        "    tpu = None\n",
        "\n",
        "if tpu:\n",
        "    tf.config.experimental_connect_to_cluster(tpu)\n",
        "    tf.tpu.experimental.initialize_tpu_system(tpu)\n",
        "    strategy = tf.distribute.experimental.TPUStrategy(tpu)\n",
        "else:\n",
        "    # Default distribution strategy in Tensorflow. Works on CPU and single GPU.\n",
        "    strategy = tf.distribute.get_strategy()\n",
        "\n",
        "print(\"REPLICAS: \", strategy.num_replicas_in_sync)\n"
      ],
      "execution_count": null,
      "outputs": [
        {
          "output_type": "stream",
          "text": [
            "INFO:absl:Entering into master device scope: /job:worker/replica:0/task:0/device:CPU:0\n"
          ],
          "name": "stderr"
        },
        {
          "output_type": "stream",
          "text": [
            "TPU address is grpc://10.68.69.138:8470\n",
            "Running on TPU  grpc://10.68.69.138:8470\n",
            "INFO:tensorflow:Initializing the TPU system: grpc://10.68.69.138:8470\n"
          ],
          "name": "stdout"
        },
        {
          "output_type": "stream",
          "text": [
            "INFO:tensorflow:Initializing the TPU system: grpc://10.68.69.138:8470\n"
          ],
          "name": "stderr"
        },
        {
          "output_type": "stream",
          "text": [
            "INFO:tensorflow:Clearing out eager caches\n"
          ],
          "name": "stdout"
        },
        {
          "output_type": "stream",
          "text": [
            "INFO:tensorflow:Clearing out eager caches\n"
          ],
          "name": "stderr"
        },
        {
          "output_type": "stream",
          "text": [
            "INFO:tensorflow:Finished initializing TPU system.\n"
          ],
          "name": "stdout"
        },
        {
          "output_type": "stream",
          "text": [
            "INFO:tensorflow:Finished initializing TPU system.\n",
            "WARNING:absl:`tf.distribute.experimental.TPUStrategy` is deprecated, please use  the non experimental symbol `tf.distribute.TPUStrategy` instead.\n"
          ],
          "name": "stderr"
        },
        {
          "output_type": "stream",
          "text": [
            "INFO:tensorflow:Found TPU system:\n"
          ],
          "name": "stdout"
        },
        {
          "output_type": "stream",
          "text": [
            "INFO:tensorflow:Found TPU system:\n"
          ],
          "name": "stderr"
        },
        {
          "output_type": "stream",
          "text": [
            "INFO:tensorflow:*** Num TPU Cores: 8\n"
          ],
          "name": "stdout"
        },
        {
          "output_type": "stream",
          "text": [
            "INFO:tensorflow:*** Num TPU Cores: 8\n"
          ],
          "name": "stderr"
        },
        {
          "output_type": "stream",
          "text": [
            "INFO:tensorflow:*** Num TPU Workers: 1\n"
          ],
          "name": "stdout"
        },
        {
          "output_type": "stream",
          "text": [
            "INFO:tensorflow:*** Num TPU Workers: 1\n"
          ],
          "name": "stderr"
        },
        {
          "output_type": "stream",
          "text": [
            "INFO:tensorflow:*** Num TPU Cores Per Worker: 8\n"
          ],
          "name": "stdout"
        },
        {
          "output_type": "stream",
          "text": [
            "INFO:tensorflow:*** Num TPU Cores Per Worker: 8\n"
          ],
          "name": "stderr"
        },
        {
          "output_type": "stream",
          "text": [
            "INFO:tensorflow:*** Available Device: _DeviceAttributes(/job:localhost/replica:0/task:0/device:CPU:0, CPU, 0, 0)\n"
          ],
          "name": "stdout"
        },
        {
          "output_type": "stream",
          "text": [
            "INFO:tensorflow:*** Available Device: _DeviceAttributes(/job:localhost/replica:0/task:0/device:CPU:0, CPU, 0, 0)\n"
          ],
          "name": "stderr"
        },
        {
          "output_type": "stream",
          "text": [
            "INFO:tensorflow:*** Available Device: _DeviceAttributes(/job:worker/replica:0/task:0/device:CPU:0, CPU, 0, 0)\n"
          ],
          "name": "stdout"
        },
        {
          "output_type": "stream",
          "text": [
            "INFO:tensorflow:*** Available Device: _DeviceAttributes(/job:worker/replica:0/task:0/device:CPU:0, CPU, 0, 0)\n"
          ],
          "name": "stderr"
        },
        {
          "output_type": "stream",
          "text": [
            "INFO:tensorflow:*** Available Device: _DeviceAttributes(/job:worker/replica:0/task:0/device:TPU:0, TPU, 0, 0)\n"
          ],
          "name": "stdout"
        },
        {
          "output_type": "stream",
          "text": [
            "INFO:tensorflow:*** Available Device: _DeviceAttributes(/job:worker/replica:0/task:0/device:TPU:0, TPU, 0, 0)\n"
          ],
          "name": "stderr"
        },
        {
          "output_type": "stream",
          "text": [
            "INFO:tensorflow:*** Available Device: _DeviceAttributes(/job:worker/replica:0/task:0/device:TPU:1, TPU, 0, 0)\n"
          ],
          "name": "stdout"
        },
        {
          "output_type": "stream",
          "text": [
            "INFO:tensorflow:*** Available Device: _DeviceAttributes(/job:worker/replica:0/task:0/device:TPU:1, TPU, 0, 0)\n"
          ],
          "name": "stderr"
        },
        {
          "output_type": "stream",
          "text": [
            "INFO:tensorflow:*** Available Device: _DeviceAttributes(/job:worker/replica:0/task:0/device:TPU:2, TPU, 0, 0)\n"
          ],
          "name": "stdout"
        },
        {
          "output_type": "stream",
          "text": [
            "INFO:tensorflow:*** Available Device: _DeviceAttributes(/job:worker/replica:0/task:0/device:TPU:2, TPU, 0, 0)\n"
          ],
          "name": "stderr"
        },
        {
          "output_type": "stream",
          "text": [
            "INFO:tensorflow:*** Available Device: _DeviceAttributes(/job:worker/replica:0/task:0/device:TPU:3, TPU, 0, 0)\n"
          ],
          "name": "stdout"
        },
        {
          "output_type": "stream",
          "text": [
            "INFO:tensorflow:*** Available Device: _DeviceAttributes(/job:worker/replica:0/task:0/device:TPU:3, TPU, 0, 0)\n"
          ],
          "name": "stderr"
        },
        {
          "output_type": "stream",
          "text": [
            "INFO:tensorflow:*** Available Device: _DeviceAttributes(/job:worker/replica:0/task:0/device:TPU:4, TPU, 0, 0)\n"
          ],
          "name": "stdout"
        },
        {
          "output_type": "stream",
          "text": [
            "INFO:tensorflow:*** Available Device: _DeviceAttributes(/job:worker/replica:0/task:0/device:TPU:4, TPU, 0, 0)\n"
          ],
          "name": "stderr"
        },
        {
          "output_type": "stream",
          "text": [
            "INFO:tensorflow:*** Available Device: _DeviceAttributes(/job:worker/replica:0/task:0/device:TPU:5, TPU, 0, 0)\n"
          ],
          "name": "stdout"
        },
        {
          "output_type": "stream",
          "text": [
            "INFO:tensorflow:*** Available Device: _DeviceAttributes(/job:worker/replica:0/task:0/device:TPU:5, TPU, 0, 0)\n"
          ],
          "name": "stderr"
        },
        {
          "output_type": "stream",
          "text": [
            "INFO:tensorflow:*** Available Device: _DeviceAttributes(/job:worker/replica:0/task:0/device:TPU:6, TPU, 0, 0)\n"
          ],
          "name": "stdout"
        },
        {
          "output_type": "stream",
          "text": [
            "INFO:tensorflow:*** Available Device: _DeviceAttributes(/job:worker/replica:0/task:0/device:TPU:6, TPU, 0, 0)\n"
          ],
          "name": "stderr"
        },
        {
          "output_type": "stream",
          "text": [
            "INFO:tensorflow:*** Available Device: _DeviceAttributes(/job:worker/replica:0/task:0/device:TPU:7, TPU, 0, 0)\n"
          ],
          "name": "stdout"
        },
        {
          "output_type": "stream",
          "text": [
            "INFO:tensorflow:*** Available Device: _DeviceAttributes(/job:worker/replica:0/task:0/device:TPU:7, TPU, 0, 0)\n"
          ],
          "name": "stderr"
        },
        {
          "output_type": "stream",
          "text": [
            "INFO:tensorflow:*** Available Device: _DeviceAttributes(/job:worker/replica:0/task:0/device:TPU_SYSTEM:0, TPU_SYSTEM, 0, 0)\n"
          ],
          "name": "stdout"
        },
        {
          "output_type": "stream",
          "text": [
            "INFO:tensorflow:*** Available Device: _DeviceAttributes(/job:worker/replica:0/task:0/device:TPU_SYSTEM:0, TPU_SYSTEM, 0, 0)\n"
          ],
          "name": "stderr"
        },
        {
          "output_type": "stream",
          "text": [
            "INFO:tensorflow:*** Available Device: _DeviceAttributes(/job:worker/replica:0/task:0/device:XLA_CPU:0, XLA_CPU, 0, 0)\n"
          ],
          "name": "stdout"
        },
        {
          "output_type": "stream",
          "text": [
            "INFO:tensorflow:*** Available Device: _DeviceAttributes(/job:worker/replica:0/task:0/device:XLA_CPU:0, XLA_CPU, 0, 0)\n"
          ],
          "name": "stderr"
        },
        {
          "output_type": "stream",
          "text": [
            "REPLICAS:  8\n"
          ],
          "name": "stdout"
        }
      ]
    },
    {
      "cell_type": "markdown",
      "metadata": {
        "id": "EuxbvESakWnj"
      },
      "source": [
        "# HYPER PARAMETERS"
      ]
    },
    {
      "cell_type": "markdown",
      "metadata": {
        "id": "wNKBZ2SIbtYZ"
      },
      "source": [
        "These parameters define the experiment configuration. \n",
        "\n",
        "The parameters of interest are:\n",
        "\n",
        "\n",
        "\n",
        "1.   noise_rate : percentage of noise\n",
        "2.   smoothing : smoothing hyper parameter, set to 0.0 or 0.3 for experiments\n",
        "3.   sce: 1 for symmetric cross entropy, 0 for binary cross entropy\n",
        "4.   training_examples: from 100k to 1.2m in increments of 100k\n",
        "\n"
      ]
    },
    {
      "cell_type": "code",
      "metadata": {
        "id": "GVFDy0f8evmq",
        "colab": {
          "base_uri": "https://localhost:8080/"
        },
        "outputId": "a3a1db87-54da-479e-d689-c90306ff1599"
      },
      "source": [
        "        \n",
        "\n",
        "class P():\n",
        "    epochs = epochs\n",
        "    model_name = 'bert-base-uncased'\n",
        "    max_len = 128\n",
        "    noise_rate = 0.1\n",
        "    batch_size = 1024\n",
        "    shuffle_buffer = batch_size * 4\n",
        "    folds = 10\n",
        "    training_examples = 400000\n",
        "    smoothing = 0.0\n",
        "    steps_per_epoch = training_examples//(batch_size * 5) \n",
        "    sce = 0\n",
        "    config_name = '%ik_ls%i_ns%i_%istep_%isce' % (training_examples/1000, int(smoothing*10), int(noise_rate*10), steps_per_epoch, sce)\n",
        "    tokenize_data = True\n",
        "        \n",
        "print(P.config_name)"
      ],
      "execution_count": null,
      "outputs": [
        {
          "output_type": "stream",
          "text": [
            "1\n",
            "400k_ls0_ns1_78step_0sce\n"
          ],
          "name": "stdout"
        }
      ]
    },
    {
      "cell_type": "code",
      "metadata": {
        "id": "zZcqS2Yqfguh"
      },
      "source": [
        ""
      ],
      "execution_count": null,
      "outputs": []
    },
    {
      "cell_type": "markdown",
      "metadata": {
        "id": "75gbCkfpkkcb"
      },
      "source": [
        "# DATASET\n",
        "\n",
        "We use a copy of the TFDS Sentiment140 dataset, hosted on google cloud storage for public access. If there is an issue with accessing the dataset, you can follow the instructions at https://www.tensorflow.org/datasets and specifically the instructions regarding GCS at https://www.tensorflow.org/datasets/gcs. Authentication is not required as the GCS dataset is hosted with public access."
      ]
    },
    {
      "cell_type": "code",
      "metadata": {
        "colab": {
          "base_uri": "https://localhost:8080/",
          "height": 660,
          "referenced_widgets": [
            "101e1d85679544e791dbd92945d8e957",
            "40cb522b9a47449c8a9744d7e1fbf8c6",
            "670e3ef212ed4d4b9145a8fdbdcf001e",
            "9ddbfc373b0d4a2291615d51e961e90a",
            "220ce493b3e3457db344b763612d60e6",
            "6370f60cda0647dfb2745f3c7456195b",
            "003e5890c8dc483baa537e6463a0f539",
            "1c42c6a58c504b14a60bc000a9724f39",
            "b66d80ac6bfb44e084fbc7fa4f6fd8f0",
            "3817019756a4489eb2b986e468472a33",
            "e1add42094cd441a89c0315e74fe5198",
            "2bdaac4000554000978db342c508688b",
            "0134969b38d4456a86a181eb5eed2d9a",
            "42e26e401dde442dad347c05e668e37b",
            "41cc5c836192425b99d717366b16e3a3",
            "fac5922c80fc454280b456235bb4ac40",
            "b90f061c34e743338408ce1849b7380d",
            "6cba50f6a53849148701964dc1e322fd",
            "77107e9987c24ff38c6a152068f5c37e",
            "6fa68f3ca55c484e91f9924c78f56252",
            "1d1644a845694b7f9dce16289ea77f70",
            "43df9ed817434358b03af1ae26f823c5",
            "2a8cf2c70af240e58582a9ca1ddfa679",
            "44825e98ff844bdba55ae4e3abcf6bc7"
          ]
        },
        "id": "Tx9EWnNzfTwk",
        "outputId": "725b06e7-e6a6-4bc5-97ed-ca699650392f"
      },
      "source": [
        "ds_train, ds_test = tfds.load(name=\"sentiment140\", split=[\"train\", \"test\"], data_dir=\"gs://kaggledata2/tfds\")\n",
        "\n",
        "tokenizer = BertTokenizer.from_pretrained(P.model_name)\n",
        "\n",
        "list(ds_train.take(5))"
      ],
      "execution_count": null,
      "outputs": [
        {
          "output_type": "stream",
          "text": [
            "INFO:absl:Load dataset info from gs://kaggledata2/tfds/sentiment140/1.0.0\n",
            "INFO:absl:Reusing dataset sentiment140 (gs://kaggledata2/tfds/sentiment140/1.0.0)\n",
            "INFO:absl:Constructing tf.data.Dataset for split ['train', 'test'], from gs://kaggledata2/tfds/sentiment140/1.0.0\n"
          ],
          "name": "stderr"
        },
        {
          "output_type": "display_data",
          "data": {
            "application/vnd.jupyter.widget-view+json": {
              "model_id": "101e1d85679544e791dbd92945d8e957",
              "version_minor": 0,
              "version_major": 2
            },
            "text/plain": [
              "HBox(children=(FloatProgress(value=0.0, description='Downloading', max=231508.0, style=ProgressStyle(descripti…"
            ]
          },
          "metadata": {
            "tags": []
          }
        },
        {
          "output_type": "stream",
          "text": [
            "\n"
          ],
          "name": "stdout"
        },
        {
          "output_type": "display_data",
          "data": {
            "application/vnd.jupyter.widget-view+json": {
              "model_id": "b66d80ac6bfb44e084fbc7fa4f6fd8f0",
              "version_minor": 0,
              "version_major": 2
            },
            "text/plain": [
              "HBox(children=(FloatProgress(value=0.0, description='Downloading', max=28.0, style=ProgressStyle(description_w…"
            ]
          },
          "metadata": {
            "tags": []
          }
        },
        {
          "output_type": "stream",
          "text": [
            "\n"
          ],
          "name": "stdout"
        },
        {
          "output_type": "display_data",
          "data": {
            "application/vnd.jupyter.widget-view+json": {
              "model_id": "b90f061c34e743338408ce1849b7380d",
              "version_minor": 0,
              "version_major": 2
            },
            "text/plain": [
              "HBox(children=(FloatProgress(value=0.0, description='Downloading', max=466062.0, style=ProgressStyle(descripti…"
            ]
          },
          "metadata": {
            "tags": []
          }
        },
        {
          "output_type": "stream",
          "text": [
            "\n"
          ],
          "name": "stdout"
        },
        {
          "output_type": "execute_result",
          "data": {
            "text/plain": [
              "[{'date': <tf.Tensor: shape=(), dtype=string, numpy=b'Mon Jun 01 18:08:26 PDT 2009'>,\n",
              "  'polarity': <tf.Tensor: shape=(), dtype=int32, numpy=4>,\n",
              "  'query': <tf.Tensor: shape=(), dtype=string, numpy=b'NO_QUERY'>,\n",
              "  'text': <tf.Tensor: shape=(), dtype=string, numpy=b\"i'm 10x cooler than all of you! \">,\n",
              "  'user': <tf.Tensor: shape=(), dtype=string, numpy=b'katie4593'>},\n",
              " {'date': <tf.Tensor: shape=(), dtype=string, numpy=b'Mon Jun 01 23:55:43 PDT 2009'>,\n",
              "  'polarity': <tf.Tensor: shape=(), dtype=int32, numpy=0>,\n",
              "  'query': <tf.Tensor: shape=(), dtype=string, numpy=b'NO_QUERY'>,\n",
              "  'text': <tf.Tensor: shape=(), dtype=string, numpy=b'O.kk? Thats weird I cant stop following people on twitter... I have tons of people to unfollow '>,\n",
              "  'user': <tf.Tensor: shape=(), dtype=string, numpy=b'migaruler'>},\n",
              " {'date': <tf.Tensor: shape=(), dtype=string, numpy=b'Mon May 04 06:08:51 PDT 2009'>,\n",
              "  'polarity': <tf.Tensor: shape=(), dtype=int32, numpy=4>,\n",
              "  'query': <tf.Tensor: shape=(), dtype=string, numpy=b'NO_QUERY'>,\n",
              "  'text': <tf.Tensor: shape=(), dtype=string, numpy=b'what a beautiful day not to got to my first class '>,\n",
              "  'user': <tf.Tensor: shape=(), dtype=string, numpy=b'ocean_waves301'>},\n",
              " {'date': <tf.Tensor: shape=(), dtype=string, numpy=b'Sun May 31 18:42:57 PDT 2009'>,\n",
              "  'polarity': <tf.Tensor: shape=(), dtype=int32, numpy=4>,\n",
              "  'query': <tf.Tensor: shape=(), dtype=string, numpy=b'NO_QUERY'>,\n",
              "  'text': <tf.Tensor: shape=(), dtype=string, numpy=b\".@HildyGottlieb &amp; I was just saying to Maha'al yesterday, everything we ever needed to know was in Beatles' lyrics - you prove my point! \">,\n",
              "  'user': <tf.Tensor: shape=(), dtype=string, numpy=b'TerraScene'>},\n",
              " {'date': <tf.Tensor: shape=(), dtype=string, numpy=b'Sat May 09 18:35:44 PDT 2009'>,\n",
              "  'polarity': <tf.Tensor: shape=(), dtype=int32, numpy=0>,\n",
              "  'query': <tf.Tensor: shape=(), dtype=string, numpy=b'NO_QUERY'>,\n",
              "  'text': <tf.Tensor: shape=(), dtype=string, numpy=b'kinda sad and confused  why do guys do this?'>,\n",
              "  'user': <tf.Tensor: shape=(), dtype=string, numpy=b'jenny0404'>}]"
            ]
          },
          "metadata": {
            "tags": []
          },
          "execution_count": 7
        }
      ]
    },
    {
      "cell_type": "markdown",
      "metadata": {
        "id": "ga0XYG1JcufC"
      },
      "source": [
        "## TOKENIZATION \n",
        "\n",
        "I highly recommend tokenizing the dataset once and storing the tokenized results because it can take a long time to tokenize.  I recommend google drive storage and specifically the approach described in https://stackoverflow.com/questions/52808143/colab-automatic-authentication-of-connection-to-google-drive-persistent-per-n/60103029#60103029. "
      ]
    },
    {
      "cell_type": "code",
      "metadata": {
        "id": "LQc-O7limVQL"
      },
      "source": [
        "from compress_pickle import dump, load\n",
        "\n",
        "\n",
        "def concat(key, data, tokens): \n",
        "    data[key] = np.concatenate([data[key] , np.array(tokens[key])], axis = 0)\n",
        "    return data\n",
        "\n",
        "\n",
        "if P.tokenize_data: \n",
        "        \n",
        "    for i in range(5): \n",
        "            \n",
        "        data = {} \n",
        "        \n",
        "        for example in tqdm(ds_train.batch(1024).skip(i * 320).take(320)): \n",
        "\n",
        "            s = [s.decode('utf-8') for s in example['text'].numpy()]\n",
        "            tokens = tokenizer(s ,max_length=P.max_len, truncation=True, padding='max_length')\n",
        "\n",
        "            tokens['polarity'] = example['polarity']/2\n",
        "\n",
        "            try:\n",
        "                data = concat('input_ids', data, tokens)\n",
        "                data = concat('token_type_ids', data, tokens)\n",
        "                data = concat('attention_mask', data, tokens)\n",
        "                \n",
        "                data = concat('polarity', data, tokens)\n",
        "\n",
        "            except KeyError:\n",
        "                data = {k:np.array(v) for k,v in tokens.items()}\n",
        "                \n",
        "\n",
        "        #update path here\n",
        "        dump(data, 'cpickle_data%i.gz' % i)\n",
        "\n",
        "\n"
      ],
      "execution_count": null,
      "outputs": []
    },
    {
      "cell_type": "code",
      "metadata": {
        "colab": {
          "base_uri": "https://localhost:8080/",
          "height": 83,
          "referenced_widgets": [
            "9c299f3947df4bfebeaec78ecbd982e0",
            "3f4a2601bbdc4548bb53bcbba5ab627b",
            "f8fe92d45aba48a181f28e6f89dba181",
            "3f10812a87d245d7ae7474f32784b334",
            "2c4e92fd97d245f3bfdbfc9733f9554e",
            "339babe48c7449dba0a828d0eab701e2",
            "88049d6e14ef41a9a0e3e9495ddf8ba5",
            "6b97b247aa92459d8f1820a7c2547739"
          ]
        },
        "id": "Fx-VxUYb6Y2H",
        "outputId": "839994ed-f1a1-44d8-a26a-1aed9414aeba"
      },
      "source": [
        "\n",
        "data = {} \n",
        "\n",
        "for i in tqdm(range(5)): \n",
        "    #update path here\n",
        "    tokens = load('cpickle_data%i.gz' % i)\n",
        "    try: \n",
        "        data = concat('input_ids', data, tokens)\n",
        "        data = concat('token_type_ids', data, tokens)\n",
        "        data = concat('attention_mask', data, tokens)\n",
        "        data = concat('polarity', data, tokens)\n",
        "    except:\n",
        "        data = tokens \n",
        "\n",
        "\n",
        "data['polarity'] = data['polarity']//2\n",
        "\n",
        "\n",
        "\n",
        "data['input_ids'].shape\n",
        "\n"
      ],
      "execution_count": null,
      "outputs": [
        {
          "output_type": "display_data",
          "data": {
            "application/vnd.jupyter.widget-view+json": {
              "model_id": "9c299f3947df4bfebeaec78ecbd982e0",
              "version_minor": 0,
              "version_major": 2
            },
            "text/plain": [
              "HBox(children=(FloatProgress(value=0.0, max=5.0), HTML(value='')))"
            ]
          },
          "metadata": {
            "tags": []
          }
        },
        {
          "output_type": "stream",
          "text": [
            "\n"
          ],
          "name": "stdout"
        },
        {
          "output_type": "execute_result",
          "data": {
            "text/plain": [
              "(1600000, 128)"
            ]
          },
          "metadata": {
            "tags": []
          },
          "execution_count": 9
        }
      ]
    },
    {
      "cell_type": "code",
      "metadata": {
        "colab": {
          "base_uri": "https://localhost:8080/"
        },
        "id": "x7wPPP2hzEt8",
        "outputId": "19dfae7b-afb7-43fe-8e2d-41c5acdfc18d"
      },
      "source": [
        "print(np.sum(data['polarity'] == 0),\n",
        "      np.sum(data['polarity'] == 1),\n",
        "      )\n"
      ],
      "execution_count": null,
      "outputs": [
        {
          "output_type": "stream",
          "text": [
            "800000 800000\n"
          ],
          "name": "stdout"
        }
      ]
    },
    {
      "cell_type": "markdown",
      "metadata": {
        "id": "QIRfBID5dEhG"
      },
      "source": [
        "## NOISE FUNCTION\n",
        "The noise function flips the label for a percentage of examples."
      ]
    },
    {
      "cell_type": "code",
      "metadata": {
        "id": "gMq8RPcSFCSk"
      },
      "source": [
        "def add_random_noise(label):\n",
        "\n",
        "    has_noise = np.random.uniform(0,1,size=label.shape) < P.noise_rate \n",
        "\n",
        "    new_label = label\n",
        "\n",
        "    new_label[has_noise] += -1 \n",
        "    new_label[has_noise] = new_label[has_noise] * -1\n",
        "\n",
        "    return new_label \n",
        "\n",
        "\n"
      ],
      "execution_count": null,
      "outputs": []
    },
    {
      "cell_type": "markdown",
      "metadata": {
        "id": "Ru350UfDdNtS"
      },
      "source": [
        "## DEFINING DATASET FOR TRAINING\n",
        "\n",
        "The code below defines the process of getting a dataset for training the model for a specific fold."
      ]
    },
    {
      "cell_type": "code",
      "metadata": {
        "id": "lp8uJ9abLfgE"
      },
      "source": [
        "data = {\n",
        "        'attention_mask' : data['attention_mask'].astype(np.int32),\n",
        "        'input_ids' : data['input_ids'].astype(np.int32),\n",
        "        'token_type_ids' : data['token_type_ids'].astype(np.int32),\n",
        "        'polarity' : data['polarity']\n",
        "    }\n",
        "\n"
      ],
      "execution_count": null,
      "outputs": []
    },
    {
      "cell_type": "code",
      "metadata": {
        "id": "mM-Ks5hd3AQ7"
      },
      "source": [
        "def idx_slice_dictionary(dict_, idx): \n",
        "    return {k: v[idx] for k,v in dict_.items()}\n",
        "\n",
        "def fix_label(example):\n",
        "    example['label'] = tf.cast(example['label'], tf.float32)\n",
        "    return example\n",
        "\n",
        "def _to_xy(example):\n",
        "    return (example['input_ids'], example['attention_mask'], example['token_type_ids']), example['label']\n",
        "\n",
        "def get_dataset(data, shuffle = False, batch_size = P.batch_size, noisy = False, repeat = False,\n",
        "                to_xy = True, limit = False):\n",
        "\n",
        "    data['label'] = add_random_noise(data['polarity']) if noisy else data['polarity'] \n",
        "\n",
        "    ds = tf.data.Dataset.from_tensor_slices(data).cache() \n",
        "\n",
        "    ds = ds.map(fix_label)\n",
        "    ds = ds.take(P.training_examples) if limit else ds \n",
        "    ds = ds.repeat() if repeat else ds \n",
        "    ds = ds.shuffle(P.shuffle_buffer) if shuffle else ds\n",
        "    ds = ds.map(_to_xy) if to_xy else ds \n",
        "    ds = ds.batch(batch_size) if batch_size > 0 else ds \n",
        "\n",
        "    return ds \n",
        "\n",
        "\n",
        "# ds = get_dataset(idx_slice_dictionary(data, [i for i in range(100)]))\n",
        "\n"
      ],
      "execution_count": null,
      "outputs": []
    },
    {
      "cell_type": "markdown",
      "metadata": {
        "id": "OXGujfQ0O5nd"
      },
      "source": [
        "# MODEL"
      ]
    },
    {
      "cell_type": "markdown",
      "metadata": {
        "id": "O3YjA5WndZb5"
      },
      "source": [
        "## SCE LOSS"
      ]
    },
    {
      "cell_type": "code",
      "metadata": {
        "id": "FpWqb9PbvPaB"
      },
      "source": [
        "def symmetric_cross_entropy(alpha = 1.0, beta = 0.1):\n",
        "    def loss(y_true, y_pred):\n",
        "\n",
        "        y_true = to_two_label(y_true)\n",
        "        y_pred = to_two_label(y_pred)\n",
        "\n",
        "        y_true_1 = y_true\n",
        "        y_pred_1 = y_pred\n",
        "\n",
        "        y_true_2 = y_true\n",
        "        y_pred_2 = y_pred\n",
        "\n",
        "        y_pred_1 = tf.clip_by_value(y_pred_1, 1e-7, 1.0)\n",
        "        y_true_2 = tf.clip_by_value(y_true_2, 1e-4, 1.0)\n",
        "\n",
        "        return alpha*tf.reduce_mean(-tf.reduce_sum(y_true_1 * tf.math.log(y_pred_1), axis = -1)) + beta*tf.reduce_mean(-tf.reduce_sum(y_pred_2 * tf.math.log(y_true_2), axis = -1))\n",
        "    return loss\n",
        "\n",
        "def to_two_label(y):\n",
        "\n",
        "    y_false = 1 - y\n",
        "\n",
        "    return tf.stack([y_false, y], axis = -1)\n",
        "\n"
      ],
      "execution_count": null,
      "outputs": []
    },
    {
      "cell_type": "markdown",
      "metadata": {
        "id": "cYBpiAKDdcgI"
      },
      "source": [
        "## MODEL DEFINITION\n",
        "\n",
        "The code below instructs the TPU to build the graph using the specifications once the graph is called."
      ]
    },
    {
      "cell_type": "code",
      "metadata": {
        "id": "ozECrRR5O6n6"
      },
      "source": [
        "def build_model():\n",
        "    model = TFBertModel.from_pretrained(P.model_name)\n",
        "\n",
        "    tokens = tf.keras.layers.Input( (P.max_len,) , dtype=tf.int64)\n",
        "    attention_masks = tf.keras.layers.Input( (P.max_len,) , dtype=tf.int64)\n",
        "    token_type_ids = tf.keras.layers.Input( (P.max_len,) , dtype=tf.int64)\n",
        "\n",
        "    output = model([tokens, attention_masks, token_type_ids])\n",
        "\n",
        "    output = output['last_hidden_state'][:, 0, :]\n",
        "\n",
        "    output = tf.keras.layers.Dense(1, activation='sigmoid')(output)\n",
        "\n",
        "    m = tf.keras.Model([tokens, attention_masks, token_type_ids], output)\n",
        "\n",
        "    return m \n",
        "\n",
        "def get_model(): \n",
        "    with strategy.scope(): \n",
        "        \n",
        "        model = build_model()\n",
        "\n",
        "        model.summary()\n",
        "\n",
        "        # optimizer = tf.keras.optimizers.Adam(learning_rate=3e-5)\n",
        "        optimizer = tfa.optimizers.LAMB(learning_rate=3e-5)\n",
        "\n",
        "        if P.sce == 1:\n",
        "            loss = symmetric_cross_entropy()\n",
        "        else:\n",
        "            loss = tf.keras.losses.BinaryCrossentropy(label_smoothing=P.smoothing)\n",
        "            \n",
        "        model.compile(optimizer=optimizer, loss=loss, metrics=['accuracy'])\n",
        "\n",
        "    return model \n",
        "\n",
        "model = get_model() \n",
        "model.summary()"
      ],
      "execution_count": null,
      "outputs": []
    },
    {
      "cell_type": "markdown",
      "metadata": {
        "id": "8lVggbe1Y_sH"
      },
      "source": [
        "## LR SCHEDULE"
      ]
    },
    {
      "cell_type": "code",
      "metadata": {
        "id": "hWm-Yy55Y-tX",
        "colab": {
          "base_uri": "https://localhost:8080/",
          "height": 723
        },
        "outputId": "750e35c8-6550-4918-8d15-b407012d8f2b"
      },
      "source": [
        "def get_lr_callback(batch_size=8*16, return_fn = False):\n",
        "\n",
        "    LR_START = 0.000005\n",
        "    LR_MIN = 0.000005\n",
        "    LR_MAX = 5e-5\n",
        "    LR_MAX = 5.0/ (np.power(2, 2.5) * np.power(10, 3))\n",
        "    LR_RAMPUP_EPOCHS = 2\n",
        "    LR_SUSTAIN_EPOCHS = 0\n",
        "    N_CYCLES = .5\n",
        "    EPOCHS = P.epochs\n",
        "\n",
        "    def lrfn(epoch):\n",
        "        if epoch < LR_RAMPUP_EPOCHS:\n",
        "            lr = (LR_MAX - LR_START) / LR_RAMPUP_EPOCHS * epoch + LR_START\n",
        "        elif epoch < LR_RAMPUP_EPOCHS + LR_SUSTAIN_EPOCHS:\n",
        "            lr = LR_MAX\n",
        "        else:\n",
        "            progress = (epoch - LR_RAMPUP_EPOCHS - LR_SUSTAIN_EPOCHS) / (EPOCHS - LR_RAMPUP_EPOCHS - LR_SUSTAIN_EPOCHS)\n",
        "            lr = LR_MAX * (0.5 * (1.0 + tf.math.cos(math.pi * N_CYCLES * 2.0 * progress)))\n",
        "            if LR_MIN is not None:\n",
        "                lr = tf.math.maximum(LR_MIN, lr)\n",
        "                \n",
        "        return lr\n",
        "\n",
        "    lr_callback = tf.keras.callbacks.LearningRateScheduler(lrfn, verbose=False)\n",
        "    if return_fn:\n",
        "        return lrfn\n",
        "    return lr_callback\n",
        "\n",
        "\n",
        "lrfn = get_lr_callback(return_fn = True)\n",
        "\n",
        "lrs = []\n",
        "for i in range(20):\n",
        "    lrs.append(lrfn(i))\n",
        "\n",
        "import matplotlib.pyplot as plt\n",
        "\n",
        "plt.plot([float(lr) for lr in lrs])\n",
        "plt.title(\"LR Schedule\")\n",
        "plt.xlabel(\"Epochs\")\n",
        "plt.ylabel(\"Learning Rate\")"
      ],
      "execution_count": null,
      "outputs": [
        {
          "output_type": "execute_result",
          "data": {
            "text/plain": [
              "Text(0, 0.5, 'Learning Rate')"
            ]
          },
          "metadata": {
            "tags": []
          },
          "execution_count": 16
        },
        {
          "output_type": "display_data",
          "data": {
            "image/png": "[encoded data removed]",
            "text/plain": [
              "<Figure size 1200x800 with 1 Axes>"
            ]
          },
          "metadata": {
            "tags": [],
            "needs_background": "light"
          }
        }
      ]
    },
    {
      "cell_type": "markdown",
      "metadata": {
        "id": "x44QFckDO4At"
      },
      "source": [
        "# TRAINING\n",
        "\n",
        "This will crash usually after the 5th fold due to a memory leak. To address this, the training process will save results for each fold and automatically skip completed folds. Make sure to save the fold results in an accessible and permanent directory. I recommend google drive storage and specifically the approach described in https://stackoverflow.com/questions/52808143/colab-automatic-authentication-of-connection-to-google-drive-persistent-per-n/60103029#60103029. "
      ]
    },
    {
      "cell_type": "code",
      "metadata": {
        "colab": {
          "base_uri": "https://localhost:8080/",
          "height": 1000,
          "referenced_widgets": [
            "fd7a6e8038db41bebb84c2e7d7733ed7",
            "fd7ec026dc504ee79b85e8b53ae464be",
            "2a0e515a4c6c49fdb37c5d6cff36ce10",
            "99e0ab0e5d174a4f87d5ccef92cbe243",
            "b6028aad90aa4de1aab5602701bc3071",
            "6810809b14254258b90e49ba422f3626",
            "761c99b10041436d8fe0b770c7555a35",
            "b913a55380fc4fa986128ddade3493f5",
            "ad723f9930c34e658e0b888f1b3c4e91",
            "480b2f9b73ca46d1994fadf1bd056e84",
            "066c1a8386a743d79783af7a7dd0db0c",
            "d3d69170789d45e19b2c0ef7131f19e0",
            "67056949b9b949039a306f2cd3b1a81f",
            "aef7b267a862439b83b958da39f6b04f",
            "82f1e6693910416cbf7977827c546b6e",
            "5ff2181cfbb04587a0d35be45259f784",
            "b928135024da4de896e8af68c0f33a69",
            "768e89c89aff4f7ba4e9ef88967e3c70",
            "e5ea9b1f897c4cf8b5d13a6f607552b6",
            "9b11479abade41fca4949dcdb19b377f",
            "50a5061321ae42e899e6892c5408550a",
            "9b26963b236a45a9a393aa772f77df43",
            "1ce27fe3c6c84630b4ace368f1392947",
            "ccef2783d9f0457bb61210c3078292e1"
          ]
        },
        "id": "zJ4Q6iK7N3_V",
        "outputId": "6ccb9ad3-b6d5-4a74-e03f-92eaa4f42f90"
      },
      "source": [
        "folds = P.folds\n",
        "kfold = KFold(folds, shuffle = True, random_state = 42)\n",
        "\n",
        "histories = []\n",
        "\n",
        "for f, (trn_ind, val_ind) in tqdm(enumerate(kfold.split(data['input_ids'])), total = folds): \n",
        "\n",
        "    # upate the save path here \n",
        "    path_to_save_directory = ''\n",
        "    model_name = path_to_save_directory + P.config_name + '_f{:02}'.format(f) \n",
        "    print(model_name)\n",
        "    \n",
        "\n",
        "    try:\n",
        "        hist = pd.read_csv(model_name + '.csv')\n",
        "\n",
        "        assert len(hist) == P.epochs\n",
        "\n",
        "        print('skipping fold %i' % f)\n",
        "\n",
        "    except:\n",
        "\n",
        "        hist = []\n",
        "\n",
        "        tf.tpu.experimental.initialize_tpu_system(tpu)\n",
        "        K.clear_session()\n",
        "\n",
        "        train_dataset = get_dataset(idx_slice_dictionary(data, trn_ind),\n",
        "                                    shuffle=True,\n",
        "                                    noisy=True,\n",
        "                                    repeat=True,\n",
        "                                    to_xy = True,\n",
        "                                    limit = True\n",
        "                                    )\n",
        "        \n",
        "        valid_dataset = get_dataset(idx_slice_dictionary(data, val_ind),\n",
        "                                    shuffle=False,\n",
        "                                    noisy=False,\n",
        "                                    repeat=False,\n",
        "                                    to_xy = True\n",
        "                                    )\n",
        "\n",
        "\n",
        "\n",
        "\n",
        "        lr_schedule = get_lr_callback()\n",
        "        csvlog =  tf.keras.callbacks.CSVLogger(model_name + '.csv')\n",
        "\n",
        "        model = get_model() \n",
        "\n",
        "\n",
        "        history = model.fit(train_dataset, \n",
        "            steps_per_epoch  = P.steps_per_epoch,\n",
        "            epochs           = P.epochs, \n",
        "            validation_data = valid_dataset,\n",
        "            callbacks = [lr_schedule, csvlog],\n",
        "            )\n",
        "\n",
        "        histories.append(history)\n",
        "        \n",
        "        del train_dataset\n",
        "        del valid_dataset\n",
        "        del model "
      ],
      "execution_count": null,
      "outputs": [
        {
          "output_type": "display_data",
          "data": {
            "application/vnd.jupyter.widget-view+json": {
              "model_id": "fd7a6e8038db41bebb84c2e7d7733ed7",
              "version_minor": 0,
              "version_major": 2
            },
            "text/plain": [
              "HBox(children=(FloatProgress(value=0.0, max=10.0), HTML(value='')))"
            ]
          },
          "metadata": {
            "tags": []
          }
        },
        {
          "output_type": "stream",
          "text": [
            "skipping fold 0\n",
            "skipping fold 1\n",
            "skipping fold 2\n",
            "skipping fold 3\n",
            "skipping fold 4\n",
            "skipping fold 5\n",
            "WARNING:tensorflow:TPU system grpc://10.116.173.98:8470 has already been initialized. Reinitializing the TPU can cause previously created variables on TPU to be lost.\n"
          ],
          "name": "stdout"
        },
        {
          "output_type": "stream",
          "text": [
            "WARNING:tensorflow:TPU system grpc://10.116.173.98:8470 has already been initialized. Reinitializing the TPU can cause previously created variables on TPU to be lost.\n"
          ],
          "name": "stderr"
        },
        {
          "output_type": "stream",
          "text": [
            "INFO:tensorflow:Initializing the TPU system: grpc://10.116.173.98:8470\n"
          ],
          "name": "stdout"
        },
        {
          "output_type": "stream",
          "text": [
            "INFO:tensorflow:Initializing the TPU system: grpc://10.116.173.98:8470\n"
          ],
          "name": "stderr"
        },
        {
          "output_type": "stream",
          "text": [
            "INFO:tensorflow:Clearing out eager caches\n"
          ],
          "name": "stdout"
        },
        {
          "output_type": "stream",
          "text": [
            "INFO:tensorflow:Clearing out eager caches\n"
          ],
          "name": "stderr"
        },
        {
          "output_type": "stream",
          "text": [
            "INFO:tensorflow:Finished initializing TPU system.\n"
          ],
          "name": "stdout"
        },
        {
          "output_type": "stream",
          "text": [
            "INFO:tensorflow:Finished initializing TPU system.\n"
          ],
          "name": "stderr"
        },
        {
          "output_type": "display_data",
          "data": {
            "application/vnd.jupyter.widget-view+json": {
              "model_id": "ad723f9930c34e658e0b888f1b3c4e91",
              "version_minor": 0,
              "version_major": 2
            },
            "text/plain": [
              "HBox(children=(FloatProgress(value=0.0, description='Downloading', max=433.0, style=ProgressStyle(description_…"
            ]
          },
          "metadata": {
            "tags": []
          }
        },
        {
          "output_type": "stream",
          "text": [
            "\n"
          ],
          "name": "stdout"
        },
        {
          "output_type": "display_data",
          "data": {
            "application/vnd.jupyter.widget-view+json": {
              "model_id": "b928135024da4de896e8af68c0f33a69",
              "version_minor": 0,
              "version_major": 2
            },
            "text/plain": [
              "HBox(children=(FloatProgress(value=0.0, description='Downloading', max=536063208.0, style=ProgressStyle(descri…"
            ]
          },
          "metadata": {
            "tags": []
          }
        },
        {
          "output_type": "stream",
          "text": [
            "\n"
          ],
          "name": "stdout"
        },
        {
          "output_type": "stream",
          "text": [
            "Some layers from the model checkpoint at bert-base-uncased were not used when initializing TFBertModel: ['nsp___cls', 'mlm___cls']\n",
            "- This IS expected if you are initializing TFBertModel from the checkpoint of a model trained on another task or with another architecture (e.g. initializing a BertForSequenceClassification model from a BertForPreTraining model).\n",
            "- This IS NOT expected if you are initializing TFBertModel from the checkpoint of a model that you expect to be exactly identical (initializing a BertForSequenceClassification model from a BertForSequenceClassification model).\n",
            "All the layers of TFBertModel were initialized from the model checkpoint at bert-base-uncased.\n",
            "If your task is similar to the task the model of the checkpoint was trained on, you can already use TFBertModel for predictions without further training.\n"
          ],
          "name": "stderr"
        },
        {
          "output_type": "stream",
          "text": [
            "WARNING:tensorflow:The parameters `output_attentions`, `output_hidden_states` and `use_cache` cannot be updated when calling a model.They have to be set to True/False in the config object (i.e.: `config=XConfig.from_pretrained('name', output_attentions=True)`).\n",
            "WARNING:tensorflow:AutoGraph could not transform <bound method Socket.send of <zmq.sugar.socket.Socket object at 0x7fbc8022ad70>> and will run it as-is.\n",
            "Please report this to the TensorFlow team. When filing the bug, set the verbosity to 10 (on Linux, `export AUTOGRAPH_VERBOSITY=10`) and attach the full output.\n",
            "Cause: module, class, method, function, traceback, frame, or code object was expected, got cython_function_or_method\n",
            "To silence this warning, decorate the function with @tf.autograph.experimental.do_not_convert\n"
          ],
          "name": "stdout"
        },
        {
          "output_type": "stream",
          "text": [
            "WARNING:tensorflow:AutoGraph could not transform <bound method Socket.send of <zmq.sugar.socket.Socket object at 0x7fbc8022ad70>> and will run it as-is.\n",
            "Please report this to the TensorFlow team. When filing the bug, set the verbosity to 10 (on Linux, `export AUTOGRAPH_VERBOSITY=10`) and attach the full output.\n",
            "Cause: module, class, method, function, traceback, frame, or code object was expected, got cython_function_or_method\n",
            "To silence this warning, decorate the function with @tf.autograph.experimental.do_not_convert\n"
          ],
          "name": "stderr"
        },
        {
          "output_type": "stream",
          "text": [
            "WARNING: AutoGraph could not transform <bound method Socket.send of <zmq.sugar.socket.Socket object at 0x7fbc8022ad70>> and will run it as-is.\n",
            "Please report this to the TensorFlow team. When filing the bug, set the verbosity to 10 (on Linux, `export AUTOGRAPH_VERBOSITY=10`) and attach the full output.\n",
            "Cause: module, class, method, function, traceback, frame, or code object was expected, got cython_function_or_method\n",
            "To silence this warning, decorate the function with @tf.autograph.experimental.do_not_convert\n",
            "WARNING:tensorflow:AutoGraph could not transform <function wrap at 0x7fbc9bad2c20> and will run it as-is.\n",
            "Cause: while/else statement not yet supported\n",
            "To silence this warning, decorate the function with @tf.autograph.experimental.do_not_convert\n"
          ],
          "name": "stdout"
        },
        {
          "output_type": "stream",
          "text": [
            "WARNING:tensorflow:The parameters `output_attentions`, `output_hidden_states` and `use_cache` cannot be updated when calling a model.They have to be set to True/False in the config object (i.e.: `config=XConfig.from_pretrained('name', output_attentions=True)`).\n",
            "WARNING:tensorflow:AutoGraph could not transform <function wrap at 0x7fbc9bad2c20> and will run it as-is.\n",
            "Cause: while/else statement not yet supported\n",
            "To silence this warning, decorate the function with @tf.autograph.experimental.do_not_convert\n"
          ],
          "name": "stderr"
        },
        {
          "output_type": "stream",
          "text": [
            "WARNING:tensorflow:The parameter `return_dict` cannot be set in graph mode and will always be set to `True`.\n",
            "WARNING: AutoGraph could not transform <function wrap at 0x7fbc9bad2c20> and will run it as-is.\n",
            "Cause: while/else statement not yet supported\n",
            "To silence this warning, decorate the function with @tf.autograph.experimental.do_not_convert\n"
          ],
          "name": "stdout"
        },
        {
          "output_type": "stream",
          "text": [
            "WARNING:tensorflow:The parameter `return_dict` cannot be set in graph mode and will always be set to `True`.\n"
          ],
          "name": "stderr"
        },
        {
          "output_type": "stream",
          "text": [
            "Model: \"model\"\n",
            "__________________________________________________________________________________________________\n",
            "Layer (type)                    Output Shape         Param #     Connected to                     \n",
            "==================================================================================================\n",
            "input_1 (InputLayer)            [(None, 128)]        0                                            \n",
            "__________________________________________________________________________________________________\n",
            "input_2 (InputLayer)            [(None, 128)]        0                                            \n",
            "__________________________________________________________________________________________________\n",
            "input_3 (InputLayer)            [(None, 128)]        0                                            \n",
            "__________________________________________________________________________________________________\n",
            "tf_bert_model (TFBertModel)     TFBaseModelOutputWit 109482240   input_1[0][0]                    \n",
            "                                                                 input_2[0][0]                    \n",
            "                                                                 input_3[0][0]                    \n",
            "__________________________________________________________________________________________________\n",
            "tf.__operators__.getitem (Slici (None, 768)          0           tf_bert_model[0][0]              \n",
            "__________________________________________________________________________________________________\n",
            "dense (Dense)                   (None, 1)            769         tf.__operators__.getitem[0][0]   \n",
            "==================================================================================================\n",
            "Total params: 109,483,009\n",
            "Trainable params: 109,483,009\n",
            "Non-trainable params: 0\n",
            "__________________________________________________________________________________________________\n",
            "Epoch 1/25\n",
            "WARNING:tensorflow:The parameters `output_attentions`, `output_hidden_states` and `use_cache` cannot be updated when calling a model.They have to be set to True/False in the config object (i.e.: `config=XConfig.from_pretrained('name', output_attentions=True)`).\n"
          ],
          "name": "stdout"
        },
        {
          "output_type": "stream",
          "text": [
            "WARNING:tensorflow:The parameters `output_attentions`, `output_hidden_states` and `use_cache` cannot be updated when calling a model.They have to be set to True/False in the config object (i.e.: `config=XConfig.from_pretrained('name', output_attentions=True)`).\n"
          ],
          "name": "stderr"
        },
        {
          "output_type": "stream",
          "text": [
            "WARNING:tensorflow:The parameter `return_dict` cannot be set in graph mode and will always be set to `True`.\n"
          ],
          "name": "stdout"
        },
        {
          "output_type": "stream",
          "text": [
            "WARNING:tensorflow:The parameter `return_dict` cannot be set in graph mode and will always be set to `True`.\n"
          ],
          "name": "stderr"
        },
        {
          "output_type": "stream",
          "text": [
            "WARNING:tensorflow:Gradients do not exist for variables ['tf_bert_model/bert/pooler/dense/kernel:0', 'tf_bert_model/bert/pooler/dense/bias:0'] when minimizing the loss.\n"
          ],
          "name": "stdout"
        },
        {
          "output_type": "stream",
          "text": [
            "WARNING:tensorflow:Gradients do not exist for variables ['tf_bert_model/bert/pooler/dense/kernel:0', 'tf_bert_model/bert/pooler/dense/bias:0'] when minimizing the loss.\n"
          ],
          "name": "stderr"
        },
        {
          "output_type": "stream",
          "text": [
            "WARNING:tensorflow:The parameters `output_attentions`, `output_hidden_states` and `use_cache` cannot be updated when calling a model.They have to be set to True/False in the config object (i.e.: `config=XConfig.from_pretrained('name', output_attentions=True)`).\n"
          ],
          "name": "stdout"
        },
        {
          "output_type": "stream",
          "text": [
            "WARNING:tensorflow:The parameters `output_attentions`, `output_hidden_states` and `use_cache` cannot be updated when calling a model.They have to be set to True/False in the config object (i.e.: `config=XConfig.from_pretrained('name', output_attentions=True)`).\n"
          ],
          "name": "stderr"
        },
        {
          "output_type": "stream",
          "text": [
            "WARNING:tensorflow:The parameter `return_dict` cannot be set in graph mode and will always be set to `True`.\n"
          ],
          "name": "stdout"
        },
        {
          "output_type": "stream",
          "text": [
            "WARNING:tensorflow:The parameter `return_dict` cannot be set in graph mode and will always be set to `True`.\n"
          ],
          "name": "stderr"
        },
        {
          "output_type": "stream",
          "text": [
            "WARNING:tensorflow:Gradients do not exist for variables ['tf_bert_model/bert/pooler/dense/kernel:0', 'tf_bert_model/bert/pooler/dense/bias:0'] when minimizing the loss.\n"
          ],
          "name": "stdout"
        },
        {
          "output_type": "stream",
          "text": [
            "WARNING:tensorflow:Gradients do not exist for variables ['tf_bert_model/bert/pooler/dense/kernel:0', 'tf_bert_model/bert/pooler/dense/bias:0'] when minimizing the loss.\n"
          ],
          "name": "stderr"
        },
        {
          "output_type": "stream",
          "text": [
            "78/78 [==============================] - ETA: 0s - loss: 0.7059 - accuracy: 0.5039WARNING:tensorflow:The parameters `output_attentions`, `output_hidden_states` and `use_cache` cannot be updated when calling a model.They have to be set to True/False in the config object (i.e.: `config=XConfig.from_pretrained('name', output_attentions=True)`).\n"
          ],
          "name": "stdout"
        },
        {
          "output_type": "stream",
          "text": [
            "WARNING:tensorflow:The parameters `output_attentions`, `output_hidden_states` and `use_cache` cannot be updated when calling a model.They have to be set to True/False in the config object (i.e.: `config=XConfig.from_pretrained('name', output_attentions=True)`).\n"
          ],
          "name": "stderr"
        },
        {
          "output_type": "stream",
          "text": [
            "WARNING:tensorflow:The parameter `return_dict` cannot be set in graph mode and will always be set to `True`.\n"
          ],
          "name": "stdout"
        },
        {
          "output_type": "stream",
          "text": [
            "WARNING:tensorflow:The parameter `return_dict` cannot be set in graph mode and will always be set to `True`.\n"
          ],
          "name": "stderr"
        },
        {
          "output_type": "stream",
          "text": [
            "\b\b\b\b\b\b\b\b\b\b\b\b\b\b\b\b\b\b\b\b\b\b\b\b\b\b\b\b\b\b\b\b\b\b\b\b\b\b\b\b\b\b\b\b\b\b\b\b\b\b\b\b\b\b\b\b\b\b\b\b\b\b\b\b\b\b\b\b\b\b\b\b\b\b\b\b\b\b\b\b\b\b\r78/78 [==============================] - 221s 1s/step - loss: 0.7057 - accuracy: 0.5042 - val_loss: 0.6659 - val_accuracy: 0.5951\n",
            "Epoch 2/25\n",
            "78/78 [==============================] - 86s 1s/step - loss: 0.5749 - accuracy: 0.7040 - val_loss: 0.4050 - val_accuracy: 0.8279\n",
            "Epoch 3/25\n",
            "78/78 [==============================] - 86s 1s/step - loss: 0.5158 - accuracy: 0.7610 - val_loss: 0.3836 - val_accuracy: 0.8386\n",
            "Epoch 4/25\n",
            "78/78 [==============================] - 86s 1s/step - loss: 0.5106 - accuracy: 0.7654 - val_loss: 0.3781 - val_accuracy: 0.8462\n",
            "Epoch 5/25\n",
            "78/78 [==============================] - 86s 1s/step - loss: 0.5019 - accuracy: 0.7738 - val_loss: 0.3900 - val_accuracy: 0.8430\n",
            "Epoch 6/25\n",
            "78/78 [==============================] - 86s 1s/step - loss: 0.5000 - accuracy: 0.7748 - val_loss: 0.3653 - val_accuracy: 0.8521\n",
            "Epoch 7/25\n",
            "78/78 [==============================] - 86s 1s/step - loss: 0.4885 - accuracy: 0.7833 - val_loss: 0.3704 - val_accuracy: 0.8508\n",
            "Epoch 8/25\n",
            "78/78 [==============================] - 86s 1s/step - loss: 0.4491 - accuracy: 0.8100 - val_loss: 0.3603 - val_accuracy: 0.8472\n",
            "Epoch 9/25\n",
            "78/78 [==============================] - 86s 1s/step - loss: 0.4442 - accuracy: 0.8123 - val_loss: 0.3645 - val_accuracy: 0.8476\n",
            "Epoch 10/25\n",
            "78/78 [==============================] - 86s 1s/step - loss: 0.4324 - accuracy: 0.8193 - val_loss: 0.3659 - val_accuracy: 0.8489\n",
            "Epoch 11/25\n",
            "78/78 [==============================] - 86s 1s/step - loss: 0.4276 - accuracy: 0.8258 - val_loss: 0.3678 - val_accuracy: 0.8468\n",
            "Epoch 12/25\n",
            "78/78 [==============================] - 86s 1s/step - loss: 0.4168 - accuracy: 0.8327 - val_loss: 0.3830 - val_accuracy: 0.8409\n",
            "Epoch 13/25\n",
            "78/78 [==============================] - 86s 1s/step - loss: 0.3604 - accuracy: 0.8617 - val_loss: 0.3900 - val_accuracy: 0.8401\n",
            "Epoch 14/25\n",
            "78/78 [==============================] - 86s 1s/step - loss: 0.3582 - accuracy: 0.8628 - val_loss: 0.4034 - val_accuracy: 0.8360\n",
            "Epoch 15/25\n",
            "78/78 [==============================] - 86s 1s/step - loss: 0.3466 - accuracy: 0.8688 - val_loss: 0.3938 - val_accuracy: 0.8428\n",
            "Epoch 16/25\n",
            "78/78 [==============================] - 86s 1s/step - loss: 0.3455 - accuracy: 0.8690 - val_loss: 0.3986 - val_accuracy: 0.8392\n",
            "Epoch 17/25\n",
            "78/78 [==============================] - 87s 1s/step - loss: 0.3304 - accuracy: 0.8779 - val_loss: 0.4231 - val_accuracy: 0.8379\n",
            "Epoch 18/25\n",
            "78/78 [==============================] - 86s 1s/step - loss: 0.2774 - accuracy: 0.9010 - val_loss: 0.4496 - val_accuracy: 0.8332\n",
            "Epoch 19/25\n",
            "78/78 [==============================] - 86s 1s/step - loss: 0.2858 - accuracy: 0.8967 - val_loss: 0.4697 - val_accuracy: 0.8319\n",
            "Epoch 20/25\n",
            "78/78 [==============================] - 86s 1s/step - loss: 0.2774 - accuracy: 0.8986 - val_loss: 0.4467 - val_accuracy: 0.8375\n",
            "Epoch 21/25\n",
            "78/78 [==============================] - 86s 1s/step - loss: 0.2856 - accuracy: 0.8962 - val_loss: 0.4606 - val_accuracy: 0.8357\n",
            "Epoch 22/25\n",
            "78/78 [==============================] - 86s 1s/step - loss: 0.2750 - accuracy: 0.9028 - val_loss: 0.4741 - val_accuracy: 0.8359\n",
            "Epoch 23/25\n",
            "78/78 [==============================] - 86s 1s/step - loss: 0.2368 - accuracy: 0.9174 - val_loss: 0.4755 - val_accuracy: 0.8357\n",
            "Epoch 24/25\n",
            "78/78 [==============================] - 86s 1s/step - loss: 0.2417 - accuracy: 0.9145 - val_loss: 0.4822 - val_accuracy: 0.8346\n",
            "Epoch 25/25\n",
            "78/78 [==============================] - 86s 1s/step - loss: 0.2461 - accuracy: 0.9108 - val_loss: 0.4795 - val_accuracy: 0.8349\n",
            "WARNING:tensorflow:TPU system grpc://10.116.173.98:8470 has already been initialized. Reinitializing the TPU can cause previously created variables on TPU to be lost.\n"
          ],
          "name": "stdout"
        },
        {
          "output_type": "stream",
          "text": [
            "WARNING:tensorflow:TPU system grpc://10.116.173.98:8470 has already been initialized. Reinitializing the TPU can cause previously created variables on TPU to be lost.\n"
          ],
          "name": "stderr"
        },
        {
          "output_type": "stream",
          "text": [
            "INFO:tensorflow:Initializing the TPU system: grpc://10.116.173.98:8470\n"
          ],
          "name": "stdout"
        },
        {
          "output_type": "stream",
          "text": [
            "INFO:tensorflow:Initializing the TPU system: grpc://10.116.173.98:8470\n"
          ],
          "name": "stderr"
        },
        {
          "output_type": "stream",
          "text": [
            "INFO:tensorflow:Clearing out eager caches\n"
          ],
          "name": "stdout"
        },
        {
          "output_type": "stream",
          "text": [
            "INFO:tensorflow:Clearing out eager caches\n"
          ],
          "name": "stderr"
        },
        {
          "output_type": "stream",
          "text": [
            "INFO:tensorflow:Finished initializing TPU system.\n"
          ],
          "name": "stdout"
        },
        {
          "output_type": "stream",
          "text": [
            "INFO:tensorflow:Finished initializing TPU system.\n",
            "Some layers from the model checkpoint at bert-base-uncased were not used when initializing TFBertModel: ['nsp___cls', 'mlm___cls']\n",
            "- This IS expected if you are initializing TFBertModel from the checkpoint of a model trained on another task or with another architecture (e.g. initializing a BertForSequenceClassification model from a BertForPreTraining model).\n",
            "- This IS NOT expected if you are initializing TFBertModel from the checkpoint of a model that you expect to be exactly identical (initializing a BertForSequenceClassification model from a BertForSequenceClassification model).\n",
            "All the layers of TFBertModel were initialized from the model checkpoint at bert-base-uncased.\n",
            "If your task is similar to the task the model of the checkpoint was trained on, you can already use TFBertModel for predictions without further training.\n"
          ],
          "name": "stderr"
        },
        {
          "output_type": "stream",
          "text": [
            "WARNING:tensorflow:The parameters `output_attentions`, `output_hidden_states` and `use_cache` cannot be updated when calling a model.They have to be set to True/False in the config object (i.e.: `config=XConfig.from_pretrained('name', output_attentions=True)`).\n"
          ],
          "name": "stdout"
        },
        {
          "output_type": "stream",
          "text": [
            "WARNING:tensorflow:The parameters `output_attentions`, `output_hidden_states` and `use_cache` cannot be updated when calling a model.They have to be set to True/False in the config object (i.e.: `config=XConfig.from_pretrained('name', output_attentions=True)`).\n"
          ],
          "name": "stderr"
        },
        {
          "output_type": "stream",
          "text": [
            "WARNING:tensorflow:The parameter `return_dict` cannot be set in graph mode and will always be set to `True`.\n"
          ],
          "name": "stdout"
        },
        {
          "output_type": "stream",
          "text": [
            "WARNING:tensorflow:The parameter `return_dict` cannot be set in graph mode and will always be set to `True`.\n"
          ],
          "name": "stderr"
        },
        {
          "output_type": "stream",
          "text": [
            "Model: \"model\"\n",
            "__________________________________________________________________________________________________\n",
            "Layer (type)                    Output Shape         Param #     Connected to                     \n",
            "==================================================================================================\n",
            "input_1 (InputLayer)            [(None, 128)]        0                                            \n",
            "__________________________________________________________________________________________________\n",
            "input_2 (InputLayer)            [(None, 128)]        0                                            \n",
            "__________________________________________________________________________________________________\n",
            "input_3 (InputLayer)            [(None, 128)]        0                                            \n",
            "__________________________________________________________________________________________________\n",
            "tf_bert_model (TFBertModel)     TFBaseModelOutputWit 109482240   input_1[0][0]                    \n",
            "                                                                 input_2[0][0]                    \n",
            "                                                                 input_3[0][0]                    \n",
            "__________________________________________________________________________________________________\n",
            "tf.__operators__.getitem (Slici (None, 768)          0           tf_bert_model[0][0]              \n",
            "__________________________________________________________________________________________________\n",
            "dense (Dense)                   (None, 1)            769         tf.__operators__.getitem[0][0]   \n",
            "==================================================================================================\n",
            "Total params: 109,483,009\n",
            "Trainable params: 109,483,009\n",
            "Non-trainable params: 0\n",
            "__________________________________________________________________________________________________\n",
            "Epoch 1/25\n",
            "WARNING:tensorflow:The parameters `output_attentions`, `output_hidden_states` and `use_cache` cannot be updated when calling a model.They have to be set to True/False in the config object (i.e.: `config=XConfig.from_pretrained('name', output_attentions=True)`).\n"
          ],
          "name": "stdout"
        },
        {
          "output_type": "stream",
          "text": [
            "WARNING:tensorflow:The parameters `output_attentions`, `output_hidden_states` and `use_cache` cannot be updated when calling a model.They have to be set to True/False in the config object (i.e.: `config=XConfig.from_pretrained('name', output_attentions=True)`).\n"
          ],
          "name": "stderr"
        },
        {
          "output_type": "stream",
          "text": [
            "WARNING:tensorflow:The parameter `return_dict` cannot be set in graph mode and will always be set to `True`.\n"
          ],
          "name": "stdout"
        },
        {
          "output_type": "stream",
          "text": [
            "WARNING:tensorflow:The parameter `return_dict` cannot be set in graph mode and will always be set to `True`.\n"
          ],
          "name": "stderr"
        },
        {
          "output_type": "stream",
          "text": [
            "WARNING:tensorflow:Gradients do not exist for variables ['tf_bert_model/bert/pooler/dense/kernel:0', 'tf_bert_model/bert/pooler/dense/bias:0'] when minimizing the loss.\n"
          ],
          "name": "stdout"
        },
        {
          "output_type": "stream",
          "text": [
            "WARNING:tensorflow:Gradients do not exist for variables ['tf_bert_model/bert/pooler/dense/kernel:0', 'tf_bert_model/bert/pooler/dense/bias:0'] when minimizing the loss.\n"
          ],
          "name": "stderr"
        },
        {
          "output_type": "stream",
          "text": [
            "WARNING:tensorflow:The parameters `output_attentions`, `output_hidden_states` and `use_cache` cannot be updated when calling a model.They have to be set to True/False in the config object (i.e.: `config=XConfig.from_pretrained('name', output_attentions=True)`).\n"
          ],
          "name": "stdout"
        },
        {
          "output_type": "stream",
          "text": [
            "WARNING:tensorflow:The parameters `output_attentions`, `output_hidden_states` and `use_cache` cannot be updated when calling a model.They have to be set to True/False in the config object (i.e.: `config=XConfig.from_pretrained('name', output_attentions=True)`).\n"
          ],
          "name": "stderr"
        },
        {
          "output_type": "stream",
          "text": [
            "WARNING:tensorflow:The parameter `return_dict` cannot be set in graph mode and will always be set to `True`.\n"
          ],
          "name": "stdout"
        },
        {
          "output_type": "stream",
          "text": [
            "WARNING:tensorflow:The parameter `return_dict` cannot be set in graph mode and will always be set to `True`.\n"
          ],
          "name": "stderr"
        },
        {
          "output_type": "stream",
          "text": [
            "WARNING:tensorflow:Gradients do not exist for variables ['tf_bert_model/bert/pooler/dense/kernel:0', 'tf_bert_model/bert/pooler/dense/bias:0'] when minimizing the loss.\n"
          ],
          "name": "stdout"
        },
        {
          "output_type": "stream",
          "text": [
            "WARNING:tensorflow:Gradients do not exist for variables ['tf_bert_model/bert/pooler/dense/kernel:0', 'tf_bert_model/bert/pooler/dense/bias:0'] when minimizing the loss.\n"
          ],
          "name": "stderr"
        },
        {
          "output_type": "stream",
          "text": [
            "78/78 [==============================] - ETA: 0s - loss: 0.7664 - accuracy: 0.4982WARNING:tensorflow:The parameters `output_attentions`, `output_hidden_states` and `use_cache` cannot be updated when calling a model.They have to be set to True/False in the config object (i.e.: `config=XConfig.from_pretrained('name', output_attentions=True)`).\n"
          ],
          "name": "stdout"
        },
        {
          "output_type": "stream",
          "text": [
            "WARNING:tensorflow:The parameters `output_attentions`, `output_hidden_states` and `use_cache` cannot be updated when calling a model.They have to be set to True/False in the config object (i.e.: `config=XConfig.from_pretrained('name', output_attentions=True)`).\n"
          ],
          "name": "stderr"
        },
        {
          "output_type": "stream",
          "text": [
            "WARNING:tensorflow:The parameter `return_dict` cannot be set in graph mode and will always be set to `True`.\n"
          ],
          "name": "stdout"
        },
        {
          "output_type": "stream",
          "text": [
            "WARNING:tensorflow:The parameter `return_dict` cannot be set in graph mode and will always be set to `True`.\n"
          ],
          "name": "stderr"
        },
        {
          "output_type": "stream",
          "text": [
            "\b\b\b\b\b\b\b\b\b\b\b\b\b\b\b\b\b\b\b\b\b\b\b\b\b\b\b\b\b\b\b\b\b\b\b\b\b\b\b\b\b\b\b\b\b\b\b\b\b\b\b\b\b\b\b\b\b\b\b\b\b\b\b\b\b\b\b\b\b\b\b\b\b\b\b\b\b\b\b\b\b\b\r78/78 [==============================] - 225s 1s/step - loss: 0.7661 - accuracy: 0.4982 - val_loss: 0.6966 - val_accuracy: 0.5288\n",
            "Epoch 2/25\n",
            "78/78 [==============================] - 86s 1s/step - loss: 0.5855 - accuracy: 0.6900 - val_loss: 0.4068 - val_accuracy: 0.8322\n",
            "Epoch 3/25\n",
            "78/78 [==============================] - 86s 1s/step - loss: 0.5188 - accuracy: 0.7620 - val_loss: 0.3927 - val_accuracy: 0.8394\n",
            "Epoch 4/25\n",
            "78/78 [==============================] - 86s 1s/step - loss: 0.5130 - accuracy: 0.7640 - val_loss: 0.3735 - val_accuracy: 0.8449\n",
            "Epoch 5/25\n",
            "78/78 [==============================] - 86s 1s/step - loss: 0.5029 - accuracy: 0.7731 - val_loss: 0.3663 - val_accuracy: 0.8471\n",
            "Epoch 6/25\n",
            "78/78 [==============================] - 86s 1s/step - loss: 0.4944 - accuracy: 0.7777 - val_loss: 0.3787 - val_accuracy: 0.8432\n",
            "Epoch 7/25\n",
            "78/78 [==============================] - 86s 1s/step - loss: 0.4842 - accuracy: 0.7837 - val_loss: 0.3753 - val_accuracy: 0.8491\n",
            "Epoch 8/25\n",
            "78/78 [==============================] - 86s 1s/step - loss: 0.4597 - accuracy: 0.8037 - val_loss: 0.3795 - val_accuracy: 0.8428\n",
            "Epoch 9/25\n",
            "78/78 [==============================] - 86s 1s/step - loss: 0.4460 - accuracy: 0.8128 - val_loss: 0.3661 - val_accuracy: 0.8485\n",
            "Epoch 10/25\n",
            "78/78 [==============================] - 86s 1s/step - loss: 0.4320 - accuracy: 0.8228 - val_loss: 0.3638 - val_accuracy: 0.8493\n",
            "Epoch 11/25\n",
            "78/78 [==============================] - 86s 1s/step - loss: 0.4212 - accuracy: 0.8280 - val_loss: 0.3685 - val_accuracy: 0.8477\n",
            "Epoch 12/25\n",
            "78/78 [==============================] - 86s 1s/step - loss: 0.4104 - accuracy: 0.8340 - val_loss: 0.3783 - val_accuracy: 0.8445\n",
            "Epoch 13/25\n",
            "78/78 [==============================] - 86s 1s/step - loss: 0.3744 - accuracy: 0.8570 - val_loss: 0.3902 - val_accuracy: 0.8391\n",
            "Epoch 14/25\n",
            "78/78 [==============================] - 86s 1s/step - loss: 0.3596 - accuracy: 0.8642 - val_loss: 0.3964 - val_accuracy: 0.8399\n",
            "Epoch 15/25\n",
            "78/78 [==============================] - 87s 1s/step - loss: 0.3548 - accuracy: 0.8650 - val_loss: 0.4005 - val_accuracy: 0.8412\n",
            "Epoch 16/25\n",
            "78/78 [==============================] - 86s 1s/step - loss: 0.3434 - accuracy: 0.8705 - val_loss: 0.4004 - val_accuracy: 0.8395\n",
            "Epoch 17/25\n",
            "78/78 [==============================] - 86s 1s/step - loss: 0.3323 - accuracy: 0.8774 - val_loss: 0.4382 - val_accuracy: 0.8363\n",
            "Epoch 18/25\n",
            "78/78 [==============================] - 86s 1s/step - loss: 0.3029 - accuracy: 0.8925 - val_loss: 0.4469 - val_accuracy: 0.8327\n",
            "Epoch 19/25\n",
            "78/78 [==============================] - 86s 1s/step - loss: 0.2870 - accuracy: 0.8982 - val_loss: 0.4388 - val_accuracy: 0.8354\n",
            "Epoch 20/25\n",
            "78/78 [==============================] - 86s 1s/step - loss: 0.2866 - accuracy: 0.8989 - val_loss: 0.4406 - val_accuracy: 0.8366\n",
            "Epoch 21/25\n",
            "78/78 [==============================] - 86s 1s/step - loss: 0.2831 - accuracy: 0.8997 - val_loss: 0.4488 - val_accuracy: 0.8355\n",
            "Epoch 22/25\n",
            "78/78 [==============================] - 86s 1s/step - loss: 0.2784 - accuracy: 0.9018 - val_loss: 0.4655 - val_accuracy: 0.8362\n",
            "Epoch 23/25\n",
            "78/78 [==============================] - 86s 1s/step - loss: 0.2569 - accuracy: 0.9110 - val_loss: 0.4833 - val_accuracy: 0.8346\n",
            "Epoch 24/25\n",
            "78/78 [==============================] - 86s 1s/step - loss: 0.2510 - accuracy: 0.9130 - val_loss: 0.4752 - val_accuracy: 0.8355\n",
            "Epoch 25/25\n",
            "78/78 [==============================] - 86s 1s/step - loss: 0.2558 - accuracy: 0.9109 - val_loss: 0.4719 - val_accuracy: 0.8363\n",
            "WARNING:tensorflow:TPU system grpc://10.116.173.98:8470 has already been initialized. Reinitializing the TPU can cause previously created variables on TPU to be lost.\n"
          ],
          "name": "stdout"
        },
        {
          "output_type": "stream",
          "text": [
            "WARNING:tensorflow:TPU system grpc://10.116.173.98:8470 has already been initialized. Reinitializing the TPU can cause previously created variables on TPU to be lost.\n"
          ],
          "name": "stderr"
        },
        {
          "output_type": "stream",
          "text": [
            "INFO:tensorflow:Initializing the TPU system: grpc://10.116.173.98:8470\n"
          ],
          "name": "stdout"
        },
        {
          "output_type": "stream",
          "text": [
            "INFO:tensorflow:Initializing the TPU system: grpc://10.116.173.98:8470\n"
          ],
          "name": "stderr"
        },
        {
          "output_type": "stream",
          "text": [
            "INFO:tensorflow:Clearing out eager caches\n"
          ],
          "name": "stdout"
        },
        {
          "output_type": "stream",
          "text": [
            "INFO:tensorflow:Clearing out eager caches\n"
          ],
          "name": "stderr"
        },
        {
          "output_type": "stream",
          "text": [
            "INFO:tensorflow:Finished initializing TPU system.\n"
          ],
          "name": "stdout"
        },
        {
          "output_type": "stream",
          "text": [
            "INFO:tensorflow:Finished initializing TPU system.\n",
            "Some layers from the model checkpoint at bert-base-uncased were not used when initializing TFBertModel: ['nsp___cls', 'mlm___cls']\n",
            "- This IS expected if you are initializing TFBertModel from the checkpoint of a model trained on another task or with another architecture (e.g. initializing a BertForSequenceClassification model from a BertForPreTraining model).\n",
            "- This IS NOT expected if you are initializing TFBertModel from the checkpoint of a model that you expect to be exactly identical (initializing a BertForSequenceClassification model from a BertForSequenceClassification model).\n",
            "All the layers of TFBertModel were initialized from the model checkpoint at bert-base-uncased.\n",
            "If your task is similar to the task the model of the checkpoint was trained on, you can already use TFBertModel for predictions without further training.\n"
          ],
          "name": "stderr"
        },
        {
          "output_type": "stream",
          "text": [
            "WARNING:tensorflow:The parameters `output_attentions`, `output_hidden_states` and `use_cache` cannot be updated when calling a model.They have to be set to True/False in the config object (i.e.: `config=XConfig.from_pretrained('name', output_attentions=True)`).\n"
          ],
          "name": "stdout"
        },
        {
          "output_type": "stream",
          "text": [
            "WARNING:tensorflow:The parameters `output_attentions`, `output_hidden_states` and `use_cache` cannot be updated when calling a model.They have to be set to True/False in the config object (i.e.: `config=XConfig.from_pretrained('name', output_attentions=True)`).\n"
          ],
          "name": "stderr"
        },
        {
          "output_type": "stream",
          "text": [
            "WARNING:tensorflow:The parameter `return_dict` cannot be set in graph mode and will always be set to `True`.\n"
          ],
          "name": "stdout"
        },
        {
          "output_type": "stream",
          "text": [
            "WARNING:tensorflow:The parameter `return_dict` cannot be set in graph mode and will always be set to `True`.\n"
          ],
          "name": "stderr"
        },
        {
          "output_type": "stream",
          "text": [
            "Model: \"model\"\n",
            "__________________________________________________________________________________________________\n",
            "Layer (type)                    Output Shape         Param #     Connected to                     \n",
            "==================================================================================================\n",
            "input_1 (InputLayer)            [(None, 128)]        0                                            \n",
            "__________________________________________________________________________________________________\n",
            "input_2 (InputLayer)            [(None, 128)]        0                                            \n",
            "__________________________________________________________________________________________________\n",
            "input_3 (InputLayer)            [(None, 128)]        0                                            \n",
            "__________________________________________________________________________________________________\n",
            "tf_bert_model (TFBertModel)     TFBaseModelOutputWit 109482240   input_1[0][0]                    \n",
            "                                                                 input_2[0][0]                    \n",
            "                                                                 input_3[0][0]                    \n",
            "__________________________________________________________________________________________________\n",
            "tf.__operators__.getitem (Slici (None, 768)          0           tf_bert_model[0][0]              \n",
            "__________________________________________________________________________________________________\n",
            "dense (Dense)                   (None, 1)            769         tf.__operators__.getitem[0][0]   \n",
            "==================================================================================================\n",
            "Total params: 109,483,009\n",
            "Trainable params: 109,483,009\n",
            "Non-trainable params: 0\n",
            "__________________________________________________________________________________________________\n",
            "Epoch 1/25\n",
            "WARNING:tensorflow:The parameters `output_attentions`, `output_hidden_states` and `use_cache` cannot be updated when calling a model.They have to be set to True/False in the config object (i.e.: `config=XConfig.from_pretrained('name', output_attentions=True)`).\n"
          ],
          "name": "stdout"
        },
        {
          "output_type": "stream",
          "text": [
            "WARNING:tensorflow:The parameters `output_attentions`, `output_hidden_states` and `use_cache` cannot be updated when calling a model.They have to be set to True/False in the config object (i.e.: `config=XConfig.from_pretrained('name', output_attentions=True)`).\n"
          ],
          "name": "stderr"
        },
        {
          "output_type": "stream",
          "text": [
            "WARNING:tensorflow:The parameter `return_dict` cannot be set in graph mode and will always be set to `True`.\n"
          ],
          "name": "stdout"
        },
        {
          "output_type": "stream",
          "text": [
            "WARNING:tensorflow:The parameter `return_dict` cannot be set in graph mode and will always be set to `True`.\n"
          ],
          "name": "stderr"
        },
        {
          "output_type": "stream",
          "text": [
            "WARNING:tensorflow:Gradients do not exist for variables ['tf_bert_model/bert/pooler/dense/kernel:0', 'tf_bert_model/bert/pooler/dense/bias:0'] when minimizing the loss.\n"
          ],
          "name": "stdout"
        },
        {
          "output_type": "stream",
          "text": [
            "WARNING:tensorflow:Gradients do not exist for variables ['tf_bert_model/bert/pooler/dense/kernel:0', 'tf_bert_model/bert/pooler/dense/bias:0'] when minimizing the loss.\n"
          ],
          "name": "stderr"
        },
        {
          "output_type": "stream",
          "text": [
            "WARNING:tensorflow:The parameters `output_attentions`, `output_hidden_states` and `use_cache` cannot be updated when calling a model.They have to be set to True/False in the config object (i.e.: `config=XConfig.from_pretrained('name', output_attentions=True)`).\n"
          ],
          "name": "stdout"
        },
        {
          "output_type": "stream",
          "text": [
            "WARNING:tensorflow:The parameters `output_attentions`, `output_hidden_states` and `use_cache` cannot be updated when calling a model.They have to be set to True/False in the config object (i.e.: `config=XConfig.from_pretrained('name', output_attentions=True)`).\n"
          ],
          "name": "stderr"
        },
        {
          "output_type": "stream",
          "text": [
            "WARNING:tensorflow:The parameter `return_dict` cannot be set in graph mode and will always be set to `True`.\n"
          ],
          "name": "stdout"
        },
        {
          "output_type": "stream",
          "text": [
            "WARNING:tensorflow:The parameter `return_dict` cannot be set in graph mode and will always be set to `True`.\n"
          ],
          "name": "stderr"
        },
        {
          "output_type": "stream",
          "text": [
            "WARNING:tensorflow:Gradients do not exist for variables ['tf_bert_model/bert/pooler/dense/kernel:0', 'tf_bert_model/bert/pooler/dense/bias:0'] when minimizing the loss.\n"
          ],
          "name": "stdout"
        },
        {
          "output_type": "stream",
          "text": [
            "WARNING:tensorflow:Gradients do not exist for variables ['tf_bert_model/bert/pooler/dense/kernel:0', 'tf_bert_model/bert/pooler/dense/bias:0'] when minimizing the loss.\n"
          ],
          "name": "stderr"
        },
        {
          "output_type": "stream",
          "text": [
            "78/78 [==============================] - ETA: 0s - loss: 0.6911 - accuracy: 0.5461WARNING:tensorflow:The parameters `output_attentions`, `output_hidden_states` and `use_cache` cannot be updated when calling a model.They have to be set to True/False in the config object (i.e.: `config=XConfig.from_pretrained('name', output_attentions=True)`).\n"
          ],
          "name": "stdout"
        },
        {
          "output_type": "stream",
          "text": [
            "WARNING:tensorflow:The parameters `output_attentions`, `output_hidden_states` and `use_cache` cannot be updated when calling a model.They have to be set to True/False in the config object (i.e.: `config=XConfig.from_pretrained('name', output_attentions=True)`).\n"
          ],
          "name": "stderr"
        },
        {
          "output_type": "stream",
          "text": [
            "WARNING:tensorflow:The parameter `return_dict` cannot be set in graph mode and will always be set to `True`.\n"
          ],
          "name": "stdout"
        },
        {
          "output_type": "stream",
          "text": [
            "WARNING:tensorflow:The parameter `return_dict` cannot be set in graph mode and will always be set to `True`.\n"
          ],
          "name": "stderr"
        },
        {
          "output_type": "stream",
          "text": [
            "\b\b\b\b\b\b\b\b\b\b\b\b\b\b\b\b\b\b\b\b\b\b\b\b\b\b\b\b\b\b\b\b\b\b\b\b\b\b\b\b\b\b\b\b\b\b\b\b\b\b\b\b\b\b\b\b\b\b\b\b\b\b\b\b\b\b\b\b\b\b\b\b\b\b\b\b\b\b\b\b\b\b\r78/78 [==============================] - 226s 1s/step - loss: 0.6910 - accuracy: 0.5464 - val_loss: 0.6288 - val_accuracy: 0.6662\n",
            "Epoch 2/25\n",
            "78/78 [==============================] - 86s 1s/step - loss: 0.5620 - accuracy: 0.7223 - val_loss: 0.4011 - val_accuracy: 0.8299\n",
            "Epoch 3/25\n",
            "78/78 [==============================] - 86s 1s/step - loss: 0.5139 - accuracy: 0.7636 - val_loss: 0.3938 - val_accuracy: 0.8406\n",
            "Epoch 4/25\n",
            "78/78 [==============================] - 86s 1s/step - loss: 0.5102 - accuracy: 0.7674 - val_loss: 0.3725 - val_accuracy: 0.8460\n",
            "Epoch 5/25\n",
            "78/78 [==============================] - 86s 1s/step - loss: 0.5044 - accuracy: 0.7721 - val_loss: 0.3702 - val_accuracy: 0.8480\n",
            "Epoch 6/25\n",
            "78/78 [==============================] - 86s 1s/step - loss: 0.4950 - accuracy: 0.7774 - val_loss: 0.3659 - val_accuracy: 0.8495\n",
            "Epoch 7/25\n",
            "78/78 [==============================] - 86s 1s/step - loss: 0.4819 - accuracy: 0.7862 - val_loss: 0.3626 - val_accuracy: 0.8507\n",
            "Epoch 8/25\n",
            "78/78 [==============================] - 86s 1s/step - loss: 0.4511 - accuracy: 0.8074 - val_loss: 0.3616 - val_accuracy: 0.8513\n",
            "Epoch 9/25\n",
            "78/78 [==============================] - 86s 1s/step - loss: 0.4443 - accuracy: 0.8129 - val_loss: 0.3631 - val_accuracy: 0.8492\n",
            "Epoch 10/25\n",
            "78/78 [==============================] - 86s 1s/step - loss: 0.4351 - accuracy: 0.8225 - val_loss: 0.3590 - val_accuracy: 0.8485\n",
            "Epoch 11/25\n",
            "78/78 [==============================] - 88s 1s/step - loss: 0.4243 - accuracy: 0.8281 - val_loss: 0.3672 - val_accuracy: 0.8454\n",
            "Epoch 12/25\n",
            "78/78 [==============================] - 86s 1s/step - loss: 0.4077 - accuracy: 0.8364 - val_loss: 0.3771 - val_accuracy: 0.8445\n",
            "Epoch 13/25\n",
            "78/78 [==============================] - 86s 1s/step - loss: 0.3682 - accuracy: 0.8572 - val_loss: 0.3891 - val_accuracy: 0.8411\n",
            "Epoch 14/25\n",
            "78/78 [==============================] - 86s 1s/step - loss: 0.3610 - accuracy: 0.8623 - val_loss: 0.3948 - val_accuracy: 0.8404\n",
            "Epoch 15/25\n",
            "78/78 [==============================] - 86s 1s/step - loss: 0.3551 - accuracy: 0.8673 - val_loss: 0.3988 - val_accuracy: 0.8414\n",
            "Epoch 16/25\n",
            "78/78 [==============================] - 86s 1s/step - loss: 0.3441 - accuracy: 0.8723 - val_loss: 0.4042 - val_accuracy: 0.8410\n",
            "Epoch 17/25\n",
            "78/78 [==============================] - 86s 1s/step - loss: 0.3256 - accuracy: 0.8801 - val_loss: 0.4261 - val_accuracy: 0.8380\n",
            "Epoch 18/25\n",
            "78/78 [==============================] - 86s 1s/step - loss: 0.2895 - accuracy: 0.8978 - val_loss: 0.4401 - val_accuracy: 0.8361\n",
            "Epoch 19/25\n",
            "78/78 [==============================] - 86s 1s/step - loss: 0.2894 - accuracy: 0.8963 - val_loss: 0.4229 - val_accuracy: 0.8367\n",
            "Epoch 20/25\n",
            "78/78 [==============================] - 86s 1s/step - loss: 0.2863 - accuracy: 0.9007 - val_loss: 0.4328 - val_accuracy: 0.8408\n",
            "Epoch 21/25\n",
            "78/78 [==============================] - 86s 1s/step - loss: 0.2825 - accuracy: 0.9008 - val_loss: 0.4384 - val_accuracy: 0.8387\n",
            "Epoch 22/25\n",
            "78/78 [==============================] - 87s 1s/step - loss: 0.2747 - accuracy: 0.9037 - val_loss: 0.4493 - val_accuracy: 0.8387\n",
            "Epoch 23/25\n",
            "78/78 [==============================] - 86s 1s/step - loss: 0.2456 - accuracy: 0.9138 - val_loss: 0.4737 - val_accuracy: 0.8359\n",
            "Epoch 24/25\n",
            "78/78 [==============================] - 86s 1s/step - loss: 0.2511 - accuracy: 0.9133 - val_loss: 0.4729 - val_accuracy: 0.8358\n",
            "Epoch 25/25\n",
            "78/78 [==============================] - 87s 1s/step - loss: 0.2621 - accuracy: 0.9099 - val_loss: 0.4653 - val_accuracy: 0.8367\n",
            "WARNING:tensorflow:TPU system grpc://10.116.173.98:8470 has already been initialized. Reinitializing the TPU can cause previously created variables on TPU to be lost.\n"
          ],
          "name": "stdout"
        },
        {
          "output_type": "stream",
          "text": [
            "WARNING:tensorflow:TPU system grpc://10.116.173.98:8470 has already been initialized. Reinitializing the TPU can cause previously created variables on TPU to be lost.\n"
          ],
          "name": "stderr"
        },
        {
          "output_type": "stream",
          "text": [
            "INFO:tensorflow:Initializing the TPU system: grpc://10.116.173.98:8470\n"
          ],
          "name": "stdout"
        },
        {
          "output_type": "stream",
          "text": [
            "INFO:tensorflow:Initializing the TPU system: grpc://10.116.173.98:8470\n"
          ],
          "name": "stderr"
        },
        {
          "output_type": "stream",
          "text": [
            "INFO:tensorflow:Clearing out eager caches\n"
          ],
          "name": "stdout"
        },
        {
          "output_type": "stream",
          "text": [
            "INFO:tensorflow:Clearing out eager caches\n"
          ],
          "name": "stderr"
        },
        {
          "output_type": "stream",
          "text": [
            "INFO:tensorflow:Finished initializing TPU system.\n"
          ],
          "name": "stdout"
        },
        {
          "output_type": "stream",
          "text": [
            "INFO:tensorflow:Finished initializing TPU system.\n",
            "Some layers from the model checkpoint at bert-base-uncased were not used when initializing TFBertModel: ['nsp___cls', 'mlm___cls']\n",
            "- This IS expected if you are initializing TFBertModel from the checkpoint of a model trained on another task or with another architecture (e.g. initializing a BertForSequenceClassification model from a BertForPreTraining model).\n",
            "- This IS NOT expected if you are initializing TFBertModel from the checkpoint of a model that you expect to be exactly identical (initializing a BertForSequenceClassification model from a BertForSequenceClassification model).\n",
            "All the layers of TFBertModel were initialized from the model checkpoint at bert-base-uncased.\n",
            "If your task is similar to the task the model of the checkpoint was trained on, you can already use TFBertModel for predictions without further training.\n"
          ],
          "name": "stderr"
        },
        {
          "output_type": "stream",
          "text": [
            "WARNING:tensorflow:The parameters `output_attentions`, `output_hidden_states` and `use_cache` cannot be updated when calling a model.They have to be set to True/False in the config object (i.e.: `config=XConfig.from_pretrained('name', output_attentions=True)`).\n"
          ],
          "name": "stdout"
        },
        {
          "output_type": "stream",
          "text": [
            "WARNING:tensorflow:The parameters `output_attentions`, `output_hidden_states` and `use_cache` cannot be updated when calling a model.They have to be set to True/False in the config object (i.e.: `config=XConfig.from_pretrained('name', output_attentions=True)`).\n"
          ],
          "name": "stderr"
        },
        {
          "output_type": "stream",
          "text": [
            "WARNING:tensorflow:The parameter `return_dict` cannot be set in graph mode and will always be set to `True`.\n"
          ],
          "name": "stdout"
        },
        {
          "output_type": "stream",
          "text": [
            "WARNING:tensorflow:The parameter `return_dict` cannot be set in graph mode and will always be set to `True`.\n"
          ],
          "name": "stderr"
        },
        {
          "output_type": "stream",
          "text": [
            "Model: \"model\"\n",
            "__________________________________________________________________________________________________\n",
            "Layer (type)                    Output Shape         Param #     Connected to                     \n",
            "==================================================================================================\n",
            "input_1 (InputLayer)            [(None, 128)]        0                                            \n",
            "__________________________________________________________________________________________________\n",
            "input_2 (InputLayer)            [(None, 128)]        0                                            \n",
            "__________________________________________________________________________________________________\n",
            "input_3 (InputLayer)            [(None, 128)]        0                                            \n",
            "__________________________________________________________________________________________________\n",
            "tf_bert_model (TFBertModel)     TFBaseModelOutputWit 109482240   input_1[0][0]                    \n",
            "                                                                 input_2[0][0]                    \n",
            "                                                                 input_3[0][0]                    \n",
            "__________________________________________________________________________________________________\n",
            "tf.__operators__.getitem (Slici (None, 768)          0           tf_bert_model[0][0]              \n",
            "__________________________________________________________________________________________________\n",
            "dense (Dense)                   (None, 1)            769         tf.__operators__.getitem[0][0]   \n",
            "==================================================================================================\n",
            "Total params: 109,483,009\n",
            "Trainable params: 109,483,009\n",
            "Non-trainable params: 0\n",
            "__________________________________________________________________________________________________\n",
            "Epoch 1/25\n",
            "WARNING:tensorflow:The parameters `output_attentions`, `output_hidden_states` and `use_cache` cannot be updated when calling a model.They have to be set to True/False in the config object (i.e.: `config=XConfig.from_pretrained('name', output_attentions=True)`).\n"
          ],
          "name": "stdout"
        },
        {
          "output_type": "stream",
          "text": [
            "WARNING:tensorflow:The parameters `output_attentions`, `output_hidden_states` and `use_cache` cannot be updated when calling a model.They have to be set to True/False in the config object (i.e.: `config=XConfig.from_pretrained('name', output_attentions=True)`).\n"
          ],
          "name": "stderr"
        },
        {
          "output_type": "stream",
          "text": [
            "WARNING:tensorflow:The parameter `return_dict` cannot be set in graph mode and will always be set to `True`.\n"
          ],
          "name": "stdout"
        },
        {
          "output_type": "stream",
          "text": [
            "WARNING:tensorflow:The parameter `return_dict` cannot be set in graph mode and will always be set to `True`.\n"
          ],
          "name": "stderr"
        },
        {
          "output_type": "stream",
          "text": [
            "WARNING:tensorflow:Gradients do not exist for variables ['tf_bert_model/bert/pooler/dense/kernel:0', 'tf_bert_model/bert/pooler/dense/bias:0'] when minimizing the loss.\n"
          ],
          "name": "stdout"
        },
        {
          "output_type": "stream",
          "text": [
            "WARNING:tensorflow:Gradients do not exist for variables ['tf_bert_model/bert/pooler/dense/kernel:0', 'tf_bert_model/bert/pooler/dense/bias:0'] when minimizing the loss.\n"
          ],
          "name": "stderr"
        },
        {
          "output_type": "stream",
          "text": [
            "WARNING:tensorflow:The parameters `output_attentions`, `output_hidden_states` and `use_cache` cannot be updated when calling a model.They have to be set to True/False in the config object (i.e.: `config=XConfig.from_pretrained('name', output_attentions=True)`).\n"
          ],
          "name": "stdout"
        },
        {
          "output_type": "stream",
          "text": [
            "WARNING:tensorflow:The parameters `output_attentions`, `output_hidden_states` and `use_cache` cannot be updated when calling a model.They have to be set to True/False in the config object (i.e.: `config=XConfig.from_pretrained('name', output_attentions=True)`).\n"
          ],
          "name": "stderr"
        },
        {
          "output_type": "stream",
          "text": [
            "WARNING:tensorflow:The parameter `return_dict` cannot be set in graph mode and will always be set to `True`.\n"
          ],
          "name": "stdout"
        },
        {
          "output_type": "stream",
          "text": [
            "WARNING:tensorflow:The parameter `return_dict` cannot be set in graph mode and will always be set to `True`.\n"
          ],
          "name": "stderr"
        },
        {
          "output_type": "stream",
          "text": [
            "WARNING:tensorflow:Gradients do not exist for variables ['tf_bert_model/bert/pooler/dense/kernel:0', 'tf_bert_model/bert/pooler/dense/bias:0'] when minimizing the loss.\n"
          ],
          "name": "stdout"
        },
        {
          "output_type": "stream",
          "text": [
            "WARNING:tensorflow:Gradients do not exist for variables ['tf_bert_model/bert/pooler/dense/kernel:0', 'tf_bert_model/bert/pooler/dense/bias:0'] when minimizing the loss.\n"
          ],
          "name": "stderr"
        },
        {
          "output_type": "stream",
          "text": [
            "78/78 [==============================] - ETA: 0s - loss: 0.7149 - accuracy: 0.4954WARNING:tensorflow:The parameters `output_attentions`, `output_hidden_states` and `use_cache` cannot be updated when calling a model.They have to be set to True/False in the config object (i.e.: `config=XConfig.from_pretrained('name', output_attentions=True)`).\n"
          ],
          "name": "stdout"
        },
        {
          "output_type": "stream",
          "text": [
            "WARNING:tensorflow:The parameters `output_attentions`, `output_hidden_states` and `use_cache` cannot be updated when calling a model.They have to be set to True/False in the config object (i.e.: `config=XConfig.from_pretrained('name', output_attentions=True)`).\n"
          ],
          "name": "stderr"
        },
        {
          "output_type": "stream",
          "text": [
            "WARNING:tensorflow:The parameter `return_dict` cannot be set in graph mode and will always be set to `True`.\n"
          ],
          "name": "stdout"
        },
        {
          "output_type": "stream",
          "text": [
            "WARNING:tensorflow:The parameter `return_dict` cannot be set in graph mode and will always be set to `True`.\n"
          ],
          "name": "stderr"
        },
        {
          "output_type": "stream",
          "text": [
            "\b\b\b\b\b\b\b\b\b\b\b\b\b\b\b\b\b\b\b\b\b\b\b\b\b\b\b\b\b\b\b\b\b\b\b\b\b\b\b\b\b\b\b\b\b\b\b\b\b\b\b\b\b\b\b\b\b\b\b\b\b\b\b\b\b\b\b\b\b\b\b\b\b\b\b\b\b\b\b\b\b\b\r78/78 [==============================] - 228s 1s/step - loss: 0.7148 - accuracy: 0.4956 - val_loss: 0.6725 - val_accuracy: 0.5801\n",
            "Epoch 2/25\n",
            "78/78 [==============================] - 86s 1s/step - loss: 0.5752 - accuracy: 0.7053 - val_loss: 0.4069 - val_accuracy: 0.8338\n",
            "Epoch 3/25\n",
            "78/78 [==============================] - 86s 1s/step - loss: 0.5178 - accuracy: 0.7644 - val_loss: 0.4099 - val_accuracy: 0.8304\n",
            "Epoch 4/25\n",
            "78/78 [==============================] - 86s 1s/step - loss: 0.5114 - accuracy: 0.7654 - val_loss: 0.3839 - val_accuracy: 0.8444\n",
            "Epoch 5/25\n",
            "78/78 [==============================] - 86s 1s/step - loss: 0.5033 - accuracy: 0.7717 - val_loss: 0.3729 - val_accuracy: 0.8484\n",
            "Epoch 6/25\n",
            "78/78 [==============================] - 86s 1s/step - loss: 0.4987 - accuracy: 0.7731 - val_loss: 0.3610 - val_accuracy: 0.8521\n",
            "Epoch 7/25\n",
            "78/78 [==============================] - 86s 1s/step - loss: 0.4876 - accuracy: 0.7844 - val_loss: 0.3712 - val_accuracy: 0.8520\n",
            "Epoch 8/25\n",
            "78/78 [==============================] - 86s 1s/step - loss: 0.4514 - accuracy: 0.8087 - val_loss: 0.3575 - val_accuracy: 0.8502\n",
            "Epoch 9/25\n",
            "78/78 [==============================] - 86s 1s/step - loss: 0.4472 - accuracy: 0.8115 - val_loss: 0.3680 - val_accuracy: 0.8492\n",
            "Epoch 10/25\n",
            "78/78 [==============================] - 86s 1s/step - loss: 0.4337 - accuracy: 0.8209 - val_loss: 0.3765 - val_accuracy: 0.8471\n",
            "Epoch 11/25\n",
            "78/78 [==============================] - 86s 1s/step - loss: 0.4292 - accuracy: 0.8230 - val_loss: 0.3704 - val_accuracy: 0.8476\n",
            "Epoch 12/25\n",
            "78/78 [==============================] - 86s 1s/step - loss: 0.4112 - accuracy: 0.8349 - val_loss: 0.3746 - val_accuracy: 0.8434\n",
            "Epoch 13/25\n",
            "78/78 [==============================] - 86s 1s/step - loss: 0.3706 - accuracy: 0.8570 - val_loss: 0.3907 - val_accuracy: 0.8430\n",
            "Epoch 14/25\n",
            "78/78 [==============================] - 86s 1s/step - loss: 0.3649 - accuracy: 0.8604 - val_loss: 0.3939 - val_accuracy: 0.8413\n",
            "Epoch 15/25\n",
            "78/78 [==============================] - 86s 1s/step - loss: 0.3495 - accuracy: 0.8687 - val_loss: 0.3951 - val_accuracy: 0.8416\n",
            "Epoch 16/25\n",
            "78/78 [==============================] - 86s 1s/step - loss: 0.3495 - accuracy: 0.8679 - val_loss: 0.4047 - val_accuracy: 0.8399\n",
            "Epoch 17/25\n",
            "78/78 [==============================] - 86s 1s/step - loss: 0.3304 - accuracy: 0.8773 - val_loss: 0.4328 - val_accuracy: 0.8356\n",
            "Epoch 18/25\n",
            "78/78 [==============================] - 86s 1s/step - loss: 0.2970 - accuracy: 0.8925 - val_loss: 0.4431 - val_accuracy: 0.8334\n",
            "Epoch 19/25\n",
            "78/78 [==============================] - 86s 1s/step - loss: 0.2887 - accuracy: 0.8970 - val_loss: 0.4479 - val_accuracy: 0.8367\n",
            "Epoch 20/25\n",
            "78/78 [==============================] - 86s 1s/step - loss: 0.2863 - accuracy: 0.8976 - val_loss: 0.4493 - val_accuracy: 0.8366\n",
            "Epoch 21/25\n",
            "78/78 [==============================] - 86s 1s/step - loss: 0.2893 - accuracy: 0.8952 - val_loss: 0.4518 - val_accuracy: 0.8361\n",
            "Epoch 22/25\n",
            "78/78 [==============================] - 86s 1s/step - loss: 0.2766 - accuracy: 0.9020 - val_loss: 0.4599 - val_accuracy: 0.8368\n",
            "Epoch 23/25\n",
            "78/78 [==============================] - 86s 1s/step - loss: 0.2493 - accuracy: 0.9128 - val_loss: 0.4746 - val_accuracy: 0.8354\n",
            "Epoch 24/25\n",
            "78/78 [==============================] - 86s 1s/step - loss: 0.2498 - accuracy: 0.9135 - val_loss: 0.4829 - val_accuracy: 0.8352\n",
            "Epoch 25/25\n",
            "78/78 [==============================] - 86s 1s/step - loss: 0.2545 - accuracy: 0.9110 - val_loss: 0.4777 - val_accuracy: 0.8354\n",
            "\n"
          ],
          "name": "stdout"
        }
      ]
    },
    {
      "cell_type": "code",
      "metadata": {
        "id": "vK3Qw3g2lnB7"
      },
      "source": [
        "\n"
      ],
      "execution_count": null,
      "outputs": []
    },
    {
      "cell_type": "markdown",
      "metadata": {
        "id": "tNNGDDNkJnr7"
      },
      "source": [
        ""
      ]
    }
  ]
}